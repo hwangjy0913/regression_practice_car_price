{
 "cells": [
  {
   "attachments": {},
   "cell_type": "markdown",
   "metadata": {},
   "source": [
    "2017111930 김민서\n",
    "2023112381 김민혁\n",
    "2019110415 황재영"
   ]
  },
  {
   "attachments": {},
   "cell_type": "markdown",
   "metadata": {},
   "source": [
    "1. 주제 - Ford car price prediction\n",
    "\n",
    "2. 데이터 출처: https://www.kaggle.com/datasets/adhurimquku/ford-car-price-prediction\n",
    "\n",
    "3. 목표 : 가격에 유의미한 변수를 찾아서 선형회귀, 다항회귀 등을 이용하여 가격 예측의 정확도를 높이는 것\n",
    "\n",
    "4. feature 설명\n",
    "\n",
    "    1. year : 생산 연도\n",
    "    2. mileage : 주행거리(마일 수)\n",
    "    3. mpg : 연비(mi/gal)"
   ]
  },
  {
   "attachments": {},
   "cell_type": "markdown",
   "metadata": {},
   "source": [
    "Part 1 : 데이터 전처리\n",
    "<pre>\n",
    "-필요 라이브러리 선언\n",
    "-결측치 확인\n",
    "-차종별 데이터 분류\n",
    "-다시 연료 종류별로 데이터 분류\n",
    "</pre>"
   ]
  },
  {
   "cell_type": "code",
   "execution_count": 1,
   "metadata": {},
   "outputs": [],
   "source": [
    "#필요한 라이브러리 선언\n",
    "import pandas as pd\n",
    "import numpy as np\n",
    "import matplotlib.pyplot as plt\n",
    "\n",
    "\n",
    "from sklearn.linear_model import LinearRegression\n",
    "from sklearn.metrics import r2_score\n",
    "from sklearn.metrics import mean_squared_error\n",
    "from sklearn.preprocessing import PolynomialFeatures\n",
    "from sklearn.linear_model import Lasso\n",
    "from scipy.stats import pearsonr"
   ]
  },
  {
   "cell_type": "code",
   "execution_count": 2,
   "metadata": {},
   "outputs": [],
   "source": [
    "df = pd.read_csv(\"./ford.csv\")"
   ]
  },
  {
   "cell_type": "code",
   "execution_count": 3,
   "metadata": {},
   "outputs": [
    {
     "data": {
      "text/html": [
       "<div>\n",
       "<style scoped>\n",
       "    .dataframe tbody tr th:only-of-type {\n",
       "        vertical-align: middle;\n",
       "    }\n",
       "\n",
       "    .dataframe tbody tr th {\n",
       "        vertical-align: top;\n",
       "    }\n",
       "\n",
       "    .dataframe thead th {\n",
       "        text-align: right;\n",
       "    }\n",
       "</style>\n",
       "<table border=\"1\" class=\"dataframe\">\n",
       "  <thead>\n",
       "    <tr style=\"text-align: right;\">\n",
       "      <th></th>\n",
       "      <th>model</th>\n",
       "      <th>year</th>\n",
       "      <th>price</th>\n",
       "      <th>transmission</th>\n",
       "      <th>mileage</th>\n",
       "      <th>fuelType</th>\n",
       "      <th>tax</th>\n",
       "      <th>mpg</th>\n",
       "      <th>engineSize</th>\n",
       "    </tr>\n",
       "  </thead>\n",
       "  <tbody>\n",
       "    <tr>\n",
       "      <th>0</th>\n",
       "      <td>Fiesta</td>\n",
       "      <td>2017</td>\n",
       "      <td>12000</td>\n",
       "      <td>Automatic</td>\n",
       "      <td>15944</td>\n",
       "      <td>Petrol</td>\n",
       "      <td>150</td>\n",
       "      <td>57.7</td>\n",
       "      <td>1.0</td>\n",
       "    </tr>\n",
       "    <tr>\n",
       "      <th>1</th>\n",
       "      <td>Focus</td>\n",
       "      <td>2018</td>\n",
       "      <td>14000</td>\n",
       "      <td>Manual</td>\n",
       "      <td>9083</td>\n",
       "      <td>Petrol</td>\n",
       "      <td>150</td>\n",
       "      <td>57.7</td>\n",
       "      <td>1.0</td>\n",
       "    </tr>\n",
       "    <tr>\n",
       "      <th>2</th>\n",
       "      <td>Focus</td>\n",
       "      <td>2017</td>\n",
       "      <td>13000</td>\n",
       "      <td>Manual</td>\n",
       "      <td>12456</td>\n",
       "      <td>Petrol</td>\n",
       "      <td>150</td>\n",
       "      <td>57.7</td>\n",
       "      <td>1.0</td>\n",
       "    </tr>\n",
       "    <tr>\n",
       "      <th>3</th>\n",
       "      <td>Fiesta</td>\n",
       "      <td>2019</td>\n",
       "      <td>17500</td>\n",
       "      <td>Manual</td>\n",
       "      <td>10460</td>\n",
       "      <td>Petrol</td>\n",
       "      <td>145</td>\n",
       "      <td>40.3</td>\n",
       "      <td>1.5</td>\n",
       "    </tr>\n",
       "    <tr>\n",
       "      <th>4</th>\n",
       "      <td>Fiesta</td>\n",
       "      <td>2019</td>\n",
       "      <td>16500</td>\n",
       "      <td>Automatic</td>\n",
       "      <td>1482</td>\n",
       "      <td>Petrol</td>\n",
       "      <td>145</td>\n",
       "      <td>48.7</td>\n",
       "      <td>1.0</td>\n",
       "    </tr>\n",
       "    <tr>\n",
       "      <th>...</th>\n",
       "      <td>...</td>\n",
       "      <td>...</td>\n",
       "      <td>...</td>\n",
       "      <td>...</td>\n",
       "      <td>...</td>\n",
       "      <td>...</td>\n",
       "      <td>...</td>\n",
       "      <td>...</td>\n",
       "      <td>...</td>\n",
       "    </tr>\n",
       "    <tr>\n",
       "      <th>17961</th>\n",
       "      <td>B-MAX</td>\n",
       "      <td>2017</td>\n",
       "      <td>8999</td>\n",
       "      <td>Manual</td>\n",
       "      <td>16700</td>\n",
       "      <td>Petrol</td>\n",
       "      <td>150</td>\n",
       "      <td>47.1</td>\n",
       "      <td>1.4</td>\n",
       "    </tr>\n",
       "    <tr>\n",
       "      <th>17962</th>\n",
       "      <td>B-MAX</td>\n",
       "      <td>2014</td>\n",
       "      <td>7499</td>\n",
       "      <td>Manual</td>\n",
       "      <td>40700</td>\n",
       "      <td>Petrol</td>\n",
       "      <td>30</td>\n",
       "      <td>57.7</td>\n",
       "      <td>1.0</td>\n",
       "    </tr>\n",
       "    <tr>\n",
       "      <th>17963</th>\n",
       "      <td>Focus</td>\n",
       "      <td>2015</td>\n",
       "      <td>9999</td>\n",
       "      <td>Manual</td>\n",
       "      <td>7010</td>\n",
       "      <td>Diesel</td>\n",
       "      <td>20</td>\n",
       "      <td>67.3</td>\n",
       "      <td>1.6</td>\n",
       "    </tr>\n",
       "    <tr>\n",
       "      <th>17964</th>\n",
       "      <td>KA</td>\n",
       "      <td>2018</td>\n",
       "      <td>8299</td>\n",
       "      <td>Manual</td>\n",
       "      <td>5007</td>\n",
       "      <td>Petrol</td>\n",
       "      <td>145</td>\n",
       "      <td>57.7</td>\n",
       "      <td>1.2</td>\n",
       "    </tr>\n",
       "    <tr>\n",
       "      <th>17965</th>\n",
       "      <td>Focus</td>\n",
       "      <td>2015</td>\n",
       "      <td>8299</td>\n",
       "      <td>Manual</td>\n",
       "      <td>5007</td>\n",
       "      <td>Petrol</td>\n",
       "      <td>22</td>\n",
       "      <td>57.7</td>\n",
       "      <td>1.0</td>\n",
       "    </tr>\n",
       "  </tbody>\n",
       "</table>\n",
       "<p>17966 rows × 9 columns</p>\n",
       "</div>"
      ],
      "text/plain": [
       "         model  year  price transmission  mileage fuelType  tax   mpg   \n",
       "0       Fiesta  2017  12000    Automatic    15944   Petrol  150  57.7  \\\n",
       "1        Focus  2018  14000       Manual     9083   Petrol  150  57.7   \n",
       "2        Focus  2017  13000       Manual    12456   Petrol  150  57.7   \n",
       "3       Fiesta  2019  17500       Manual    10460   Petrol  145  40.3   \n",
       "4       Fiesta  2019  16500    Automatic     1482   Petrol  145  48.7   \n",
       "...        ...   ...    ...          ...      ...      ...  ...   ...   \n",
       "17961    B-MAX  2017   8999       Manual    16700   Petrol  150  47.1   \n",
       "17962    B-MAX  2014   7499       Manual    40700   Petrol   30  57.7   \n",
       "17963    Focus  2015   9999       Manual     7010   Diesel   20  67.3   \n",
       "17964       KA  2018   8299       Manual     5007   Petrol  145  57.7   \n",
       "17965    Focus  2015   8299       Manual     5007   Petrol   22  57.7   \n",
       "\n",
       "       engineSize  \n",
       "0             1.0  \n",
       "1             1.0  \n",
       "2             1.0  \n",
       "3             1.5  \n",
       "4             1.0  \n",
       "...           ...  \n",
       "17961         1.4  \n",
       "17962         1.0  \n",
       "17963         1.6  \n",
       "17964         1.2  \n",
       "17965         1.0  \n",
       "\n",
       "[17966 rows x 9 columns]"
      ]
     },
     "execution_count": 3,
     "metadata": {},
     "output_type": "execute_result"
    }
   ],
   "source": [
    "df"
   ]
  },
  {
   "cell_type": "code",
   "execution_count": 4,
   "metadata": {},
   "outputs": [],
   "source": [
    "df = df.drop(['transmission', 'tax', 'engineSize'], axis = 1)"
   ]
  },
  {
   "cell_type": "code",
   "execution_count": 5,
   "metadata": {},
   "outputs": [
    {
     "data": {
      "text/plain": [
       "model       0\n",
       "year        0\n",
       "price       0\n",
       "mileage     0\n",
       "fuelType    0\n",
       "mpg         0\n",
       "dtype: int64"
      ]
     },
     "execution_count": 5,
     "metadata": {},
     "output_type": "execute_result"
    }
   ],
   "source": [
    "#결측치 확인\n",
    "df.isnull().sum()"
   ]
  },
  {
   "cell_type": "code",
   "execution_count": 6,
   "metadata": {},
   "outputs": [],
   "source": [
    "#차종별 데이터 분류(model)\n",
    "fi_df = df[df['model'] == ' Fiesta']\n",
    "fo_df = df[(df['model'] == ' Focus')|(df['model'] == 'Focus')]\n",
    "ku_df = df[df['model'] == ' Kuga']"
   ]
  },
  {
   "cell_type": "code",
   "execution_count": 7,
   "metadata": {},
   "outputs": [
    {
     "name": "stdout",
     "output_type": "stream",
     "text": [
      "Fiesta Dataset:\n"
     ]
    },
    {
     "data": {
      "text/html": [
       "<div>\n",
       "<style scoped>\n",
       "    .dataframe tbody tr th:only-of-type {\n",
       "        vertical-align: middle;\n",
       "    }\n",
       "\n",
       "    .dataframe tbody tr th {\n",
       "        vertical-align: top;\n",
       "    }\n",
       "\n",
       "    .dataframe thead th {\n",
       "        text-align: right;\n",
       "    }\n",
       "</style>\n",
       "<table border=\"1\" class=\"dataframe\">\n",
       "  <thead>\n",
       "    <tr style=\"text-align: right;\">\n",
       "      <th></th>\n",
       "      <th>model</th>\n",
       "      <th>year</th>\n",
       "      <th>price</th>\n",
       "      <th>mileage</th>\n",
       "      <th>fuelType</th>\n",
       "      <th>mpg</th>\n",
       "    </tr>\n",
       "  </thead>\n",
       "  <tbody>\n",
       "    <tr>\n",
       "      <th>0</th>\n",
       "      <td>Fiesta</td>\n",
       "      <td>2017</td>\n",
       "      <td>12000</td>\n",
       "      <td>15944</td>\n",
       "      <td>Petrol</td>\n",
       "      <td>57.7</td>\n",
       "    </tr>\n",
       "    <tr>\n",
       "      <th>3</th>\n",
       "      <td>Fiesta</td>\n",
       "      <td>2019</td>\n",
       "      <td>17500</td>\n",
       "      <td>10460</td>\n",
       "      <td>Petrol</td>\n",
       "      <td>40.3</td>\n",
       "    </tr>\n",
       "    <tr>\n",
       "      <th>4</th>\n",
       "      <td>Fiesta</td>\n",
       "      <td>2019</td>\n",
       "      <td>16500</td>\n",
       "      <td>1482</td>\n",
       "      <td>Petrol</td>\n",
       "      <td>48.7</td>\n",
       "    </tr>\n",
       "    <tr>\n",
       "      <th>5</th>\n",
       "      <td>Fiesta</td>\n",
       "      <td>2015</td>\n",
       "      <td>10500</td>\n",
       "      <td>35432</td>\n",
       "      <td>Petrol</td>\n",
       "      <td>47.9</td>\n",
       "    </tr>\n",
       "    <tr>\n",
       "      <th>7</th>\n",
       "      <td>Fiesta</td>\n",
       "      <td>2017</td>\n",
       "      <td>9000</td>\n",
       "      <td>13054</td>\n",
       "      <td>Petrol</td>\n",
       "      <td>54.3</td>\n",
       "    </tr>\n",
       "    <tr>\n",
       "      <th>...</th>\n",
       "      <td>...</td>\n",
       "      <td>...</td>\n",
       "      <td>...</td>\n",
       "      <td>...</td>\n",
       "      <td>...</td>\n",
       "      <td>...</td>\n",
       "    </tr>\n",
       "    <tr>\n",
       "      <th>17945</th>\n",
       "      <td>Fiesta</td>\n",
       "      <td>2019</td>\n",
       "      <td>15999</td>\n",
       "      <td>2813</td>\n",
       "      <td>Petrol</td>\n",
       "      <td>58.9</td>\n",
       "    </tr>\n",
       "    <tr>\n",
       "      <th>17946</th>\n",
       "      <td>Fiesta</td>\n",
       "      <td>2015</td>\n",
       "      <td>8999</td>\n",
       "      <td>24546</td>\n",
       "      <td>Petrol</td>\n",
       "      <td>65.7</td>\n",
       "    </tr>\n",
       "    <tr>\n",
       "      <th>17952</th>\n",
       "      <td>Fiesta</td>\n",
       "      <td>2017</td>\n",
       "      <td>9899</td>\n",
       "      <td>16303</td>\n",
       "      <td>Petrol</td>\n",
       "      <td>57.7</td>\n",
       "    </tr>\n",
       "    <tr>\n",
       "      <th>17955</th>\n",
       "      <td>Fiesta</td>\n",
       "      <td>2018</td>\n",
       "      <td>12500</td>\n",
       "      <td>7047</td>\n",
       "      <td>Petrol</td>\n",
       "      <td>48.7</td>\n",
       "    </tr>\n",
       "    <tr>\n",
       "      <th>17960</th>\n",
       "      <td>Fiesta</td>\n",
       "      <td>2016</td>\n",
       "      <td>7999</td>\n",
       "      <td>31348</td>\n",
       "      <td>Petrol</td>\n",
       "      <td>54.3</td>\n",
       "    </tr>\n",
       "  </tbody>\n",
       "</table>\n",
       "<p>6557 rows × 6 columns</p>\n",
       "</div>"
      ],
      "text/plain": [
       "         model  year  price  mileage fuelType   mpg\n",
       "0       Fiesta  2017  12000    15944   Petrol  57.7\n",
       "3       Fiesta  2019  17500    10460   Petrol  40.3\n",
       "4       Fiesta  2019  16500     1482   Petrol  48.7\n",
       "5       Fiesta  2015  10500    35432   Petrol  47.9\n",
       "7       Fiesta  2017   9000    13054   Petrol  54.3\n",
       "...        ...   ...    ...      ...      ...   ...\n",
       "17945   Fiesta  2019  15999     2813   Petrol  58.9\n",
       "17946   Fiesta  2015   8999    24546   Petrol  65.7\n",
       "17952   Fiesta  2017   9899    16303   Petrol  57.7\n",
       "17955   Fiesta  2018  12500     7047   Petrol  48.7\n",
       "17960   Fiesta  2016   7999    31348   Petrol  54.3\n",
       "\n",
       "[6557 rows x 6 columns]"
      ]
     },
     "execution_count": 7,
     "metadata": {},
     "output_type": "execute_result"
    }
   ],
   "source": [
    "print(\"Fiesta Dataset:\")\n",
    "fi_df"
   ]
  },
  {
   "cell_type": "code",
   "execution_count": 8,
   "metadata": {},
   "outputs": [
    {
     "name": "stdout",
     "output_type": "stream",
     "text": [
      "Focus Dataset:\n"
     ]
    },
    {
     "data": {
      "text/html": [
       "<div>\n",
       "<style scoped>\n",
       "    .dataframe tbody tr th:only-of-type {\n",
       "        vertical-align: middle;\n",
       "    }\n",
       "\n",
       "    .dataframe tbody tr th {\n",
       "        vertical-align: top;\n",
       "    }\n",
       "\n",
       "    .dataframe thead th {\n",
       "        text-align: right;\n",
       "    }\n",
       "</style>\n",
       "<table border=\"1\" class=\"dataframe\">\n",
       "  <thead>\n",
       "    <tr style=\"text-align: right;\">\n",
       "      <th></th>\n",
       "      <th>model</th>\n",
       "      <th>year</th>\n",
       "      <th>price</th>\n",
       "      <th>mileage</th>\n",
       "      <th>fuelType</th>\n",
       "      <th>mpg</th>\n",
       "    </tr>\n",
       "  </thead>\n",
       "  <tbody>\n",
       "    <tr>\n",
       "      <th>1</th>\n",
       "      <td>Focus</td>\n",
       "      <td>2018</td>\n",
       "      <td>14000</td>\n",
       "      <td>9083</td>\n",
       "      <td>Petrol</td>\n",
       "      <td>57.7</td>\n",
       "    </tr>\n",
       "    <tr>\n",
       "      <th>2</th>\n",
       "      <td>Focus</td>\n",
       "      <td>2017</td>\n",
       "      <td>13000</td>\n",
       "      <td>12456</td>\n",
       "      <td>Petrol</td>\n",
       "      <td>57.7</td>\n",
       "    </tr>\n",
       "    <tr>\n",
       "      <th>9</th>\n",
       "      <td>Focus</td>\n",
       "      <td>2018</td>\n",
       "      <td>10000</td>\n",
       "      <td>48141</td>\n",
       "      <td>Petrol</td>\n",
       "      <td>61.4</td>\n",
       "    </tr>\n",
       "    <tr>\n",
       "      <th>25</th>\n",
       "      <td>Focus</td>\n",
       "      <td>2017</td>\n",
       "      <td>18499</td>\n",
       "      <td>13063</td>\n",
       "      <td>Petrol</td>\n",
       "      <td>41.5</td>\n",
       "    </tr>\n",
       "    <tr>\n",
       "      <th>32</th>\n",
       "      <td>Focus</td>\n",
       "      <td>2019</td>\n",
       "      <td>18990</td>\n",
       "      <td>8400</td>\n",
       "      <td>Petrol</td>\n",
       "      <td>60.1</td>\n",
       "    </tr>\n",
       "    <tr>\n",
       "      <th>...</th>\n",
       "      <td>...</td>\n",
       "      <td>...</td>\n",
       "      <td>...</td>\n",
       "      <td>...</td>\n",
       "      <td>...</td>\n",
       "      <td>...</td>\n",
       "    </tr>\n",
       "    <tr>\n",
       "      <th>17933</th>\n",
       "      <td>Focus</td>\n",
       "      <td>2017</td>\n",
       "      <td>11000</td>\n",
       "      <td>17339</td>\n",
       "      <td>Petrol</td>\n",
       "      <td>60.1</td>\n",
       "    </tr>\n",
       "    <tr>\n",
       "      <th>17942</th>\n",
       "      <td>Focus</td>\n",
       "      <td>2015</td>\n",
       "      <td>8000</td>\n",
       "      <td>65000</td>\n",
       "      <td>Diesel</td>\n",
       "      <td>74.3</td>\n",
       "    </tr>\n",
       "    <tr>\n",
       "      <th>17954</th>\n",
       "      <td>Focus</td>\n",
       "      <td>2016</td>\n",
       "      <td>16000</td>\n",
       "      <td>19834</td>\n",
       "      <td>Petrol</td>\n",
       "      <td>41.5</td>\n",
       "    </tr>\n",
       "    <tr>\n",
       "      <th>17963</th>\n",
       "      <td>Focus</td>\n",
       "      <td>2015</td>\n",
       "      <td>9999</td>\n",
       "      <td>7010</td>\n",
       "      <td>Diesel</td>\n",
       "      <td>67.3</td>\n",
       "    </tr>\n",
       "    <tr>\n",
       "      <th>17965</th>\n",
       "      <td>Focus</td>\n",
       "      <td>2015</td>\n",
       "      <td>8299</td>\n",
       "      <td>5007</td>\n",
       "      <td>Petrol</td>\n",
       "      <td>57.7</td>\n",
       "    </tr>\n",
       "  </tbody>\n",
       "</table>\n",
       "<p>4589 rows × 6 columns</p>\n",
       "</div>"
      ],
      "text/plain": [
       "        model  year  price  mileage fuelType   mpg\n",
       "1       Focus  2018  14000     9083   Petrol  57.7\n",
       "2       Focus  2017  13000    12456   Petrol  57.7\n",
       "9       Focus  2018  10000    48141   Petrol  61.4\n",
       "25      Focus  2017  18499    13063   Petrol  41.5\n",
       "32      Focus  2019  18990     8400   Petrol  60.1\n",
       "...       ...   ...    ...      ...      ...   ...\n",
       "17933   Focus  2017  11000    17339   Petrol  60.1\n",
       "17942   Focus  2015   8000    65000   Diesel  74.3\n",
       "17954   Focus  2016  16000    19834   Petrol  41.5\n",
       "17963   Focus  2015   9999     7010   Diesel  67.3\n",
       "17965   Focus  2015   8299     5007   Petrol  57.7\n",
       "\n",
       "[4589 rows x 6 columns]"
      ]
     },
     "execution_count": 8,
     "metadata": {},
     "output_type": "execute_result"
    }
   ],
   "source": [
    "print(\"Focus Dataset:\")\n",
    "fo_df"
   ]
  },
  {
   "cell_type": "code",
   "execution_count": 9,
   "metadata": {},
   "outputs": [
    {
     "name": "stdout",
     "output_type": "stream",
     "text": [
      "Kuga Dataset:\n"
     ]
    },
    {
     "data": {
      "text/html": [
       "<div>\n",
       "<style scoped>\n",
       "    .dataframe tbody tr th:only-of-type {\n",
       "        vertical-align: middle;\n",
       "    }\n",
       "\n",
       "    .dataframe tbody tr th {\n",
       "        vertical-align: top;\n",
       "    }\n",
       "\n",
       "    .dataframe thead th {\n",
       "        text-align: right;\n",
       "    }\n",
       "</style>\n",
       "<table border=\"1\" class=\"dataframe\">\n",
       "  <thead>\n",
       "    <tr style=\"text-align: right;\">\n",
       "      <th></th>\n",
       "      <th>model</th>\n",
       "      <th>year</th>\n",
       "      <th>price</th>\n",
       "      <th>mileage</th>\n",
       "      <th>fuelType</th>\n",
       "      <th>mpg</th>\n",
       "    </tr>\n",
       "  </thead>\n",
       "  <tbody>\n",
       "    <tr>\n",
       "      <th>8</th>\n",
       "      <td>Kuga</td>\n",
       "      <td>2019</td>\n",
       "      <td>25500</td>\n",
       "      <td>6894</td>\n",
       "      <td>Diesel</td>\n",
       "      <td>42.2</td>\n",
       "    </tr>\n",
       "    <tr>\n",
       "      <th>13</th>\n",
       "      <td>Kuga</td>\n",
       "      <td>2018</td>\n",
       "      <td>17999</td>\n",
       "      <td>9002</td>\n",
       "      <td>Diesel</td>\n",
       "      <td>54.3</td>\n",
       "    </tr>\n",
       "    <tr>\n",
       "      <th>14</th>\n",
       "      <td>Kuga</td>\n",
       "      <td>2018</td>\n",
       "      <td>18999</td>\n",
       "      <td>8970</td>\n",
       "      <td>Diesel</td>\n",
       "      <td>58.9</td>\n",
       "    </tr>\n",
       "    <tr>\n",
       "      <th>15</th>\n",
       "      <td>Kuga</td>\n",
       "      <td>2018</td>\n",
       "      <td>14399</td>\n",
       "      <td>12810</td>\n",
       "      <td>Diesel</td>\n",
       "      <td>64.2</td>\n",
       "    </tr>\n",
       "    <tr>\n",
       "      <th>16</th>\n",
       "      <td>Kuga</td>\n",
       "      <td>2019</td>\n",
       "      <td>17999</td>\n",
       "      <td>10428</td>\n",
       "      <td>Diesel</td>\n",
       "      <td>38.2</td>\n",
       "    </tr>\n",
       "    <tr>\n",
       "      <th>...</th>\n",
       "      <td>...</td>\n",
       "      <td>...</td>\n",
       "      <td>...</td>\n",
       "      <td>...</td>\n",
       "      <td>...</td>\n",
       "      <td>...</td>\n",
       "    </tr>\n",
       "    <tr>\n",
       "      <th>17937</th>\n",
       "      <td>Kuga</td>\n",
       "      <td>2018</td>\n",
       "      <td>17999</td>\n",
       "      <td>9725</td>\n",
       "      <td>Petrol</td>\n",
       "      <td>38.2</td>\n",
       "    </tr>\n",
       "    <tr>\n",
       "      <th>17947</th>\n",
       "      <td>Kuga</td>\n",
       "      <td>2018</td>\n",
       "      <td>17199</td>\n",
       "      <td>26000</td>\n",
       "      <td>Diesel</td>\n",
       "      <td>54.3</td>\n",
       "    </tr>\n",
       "    <tr>\n",
       "      <th>17948</th>\n",
       "      <td>Kuga</td>\n",
       "      <td>2017</td>\n",
       "      <td>16500</td>\n",
       "      <td>27367</td>\n",
       "      <td>Diesel</td>\n",
       "      <td>54.3</td>\n",
       "    </tr>\n",
       "    <tr>\n",
       "      <th>17949</th>\n",
       "      <td>Kuga</td>\n",
       "      <td>2018</td>\n",
       "      <td>16500</td>\n",
       "      <td>33646</td>\n",
       "      <td>Diesel</td>\n",
       "      <td>60.1</td>\n",
       "    </tr>\n",
       "    <tr>\n",
       "      <th>17950</th>\n",
       "      <td>Kuga</td>\n",
       "      <td>2018</td>\n",
       "      <td>17999</td>\n",
       "      <td>10957</td>\n",
       "      <td>Petrol</td>\n",
       "      <td>45.6</td>\n",
       "    </tr>\n",
       "  </tbody>\n",
       "</table>\n",
       "<p>2225 rows × 6 columns</p>\n",
       "</div>"
      ],
      "text/plain": [
       "       model  year  price  mileage fuelType   mpg\n",
       "8       Kuga  2019  25500     6894   Diesel  42.2\n",
       "13      Kuga  2018  17999     9002   Diesel  54.3\n",
       "14      Kuga  2018  18999     8970   Diesel  58.9\n",
       "15      Kuga  2018  14399    12810   Diesel  64.2\n",
       "16      Kuga  2019  17999    10428   Diesel  38.2\n",
       "...      ...   ...    ...      ...      ...   ...\n",
       "17937   Kuga  2018  17999     9725   Petrol  38.2\n",
       "17947   Kuga  2018  17199    26000   Diesel  54.3\n",
       "17948   Kuga  2017  16500    27367   Diesel  54.3\n",
       "17949   Kuga  2018  16500    33646   Diesel  60.1\n",
       "17950   Kuga  2018  17999    10957   Petrol  45.6\n",
       "\n",
       "[2225 rows x 6 columns]"
      ]
     },
     "execution_count": 9,
     "metadata": {},
     "output_type": "execute_result"
    }
   ],
   "source": [
    "print(\"Kuga Dataset:\")\n",
    "ku_df"
   ]
  },
  {
   "cell_type": "code",
   "execution_count": 10,
   "metadata": {},
   "outputs": [],
   "source": [
    "#차종별 데이터 분류 후, 연료 별 데이터 분류\n",
    "Pfi_df = fi_df[fi_df['fuelType'] == 'Petrol']\n",
    "Dfi_df = fi_df[fi_df['fuelType'] == 'Diesel']\n",
    "Pfo_df = fo_df[fo_df['fuelType'] == 'Petrol']\n",
    "Dfo_df = fo_df[fo_df['fuelType'] == 'Diesel']\n",
    "Pku_df = ku_df[ku_df['fuelType'] == 'Petrol']\n",
    "Dku_df = ku_df[ku_df['fuelType'] == 'Diesel']\n"
   ]
  },
  {
   "cell_type": "code",
   "execution_count": 11,
   "metadata": {
    "scrolled": true
   },
   "outputs": [
    {
     "name": "stdout",
     "output_type": "stream",
     "text": [
      "Fiesta_petrol \n",
      "          model  year  price  mileage fuelType   mpg\n",
      "0       Fiesta  2017  12000    15944   Petrol  57.7\n",
      "3       Fiesta  2019  17500    10460   Petrol  40.3\n",
      "4       Fiesta  2019  16500     1482   Petrol  48.7\n",
      "5       Fiesta  2015  10500    35432   Petrol  47.9\n",
      "7       Fiesta  2017   9000    13054   Petrol  54.3\n",
      "...        ...   ...    ...      ...      ...   ...\n",
      "17945   Fiesta  2019  15999     2813   Petrol  58.9\n",
      "17946   Fiesta  2015   8999    24546   Petrol  65.7\n",
      "17952   Fiesta  2017   9899    16303   Petrol  57.7\n",
      "17955   Fiesta  2018  12500     7047   Petrol  48.7\n",
      "17960   Fiesta  2016   7999    31348   Petrol  54.3\n",
      "\n",
      "[6164 rows x 6 columns]\n",
      "Fiesta_Diesel \n",
      "          model  year  price  mileage fuelType   mpg\n",
      "30      Fiesta  2016   7999    60730   Diesel  78.5\n",
      "65      Fiesta  2013   5998    44304   Diesel  76.4\n",
      "78      Fiesta  2015   6990    29851   Diesel  76.4\n",
      "272     Fiesta  2017   9995    27000   Diesel  78.5\n",
      "361     Fiesta  2015   5998    55898   Diesel  78.5\n",
      "...        ...   ...    ...      ...      ...   ...\n",
      "17572   Fiesta  2016   8700    23246   Diesel  78.5\n",
      "17580   Fiesta  2017   8500    26360   Diesel  88.3\n",
      "17583   Fiesta  2016   7200    33625   Diesel  78.5\n",
      "17657   Fiesta  2018   9300    43331   Diesel  58.9\n",
      "17785   Fiesta  2012   5500    64068   Diesel  51.4\n",
      "\n",
      "[393 rows x 6 columns]\n",
      "Focus_petrol \n",
      "         model  year  price  mileage fuelType   mpg\n",
      "1       Focus  2018  14000     9083   Petrol  57.7\n",
      "2       Focus  2017  13000    12456   Petrol  57.7\n",
      "9       Focus  2018  10000    48141   Petrol  61.4\n",
      "25      Focus  2017  18499    13063   Petrol  41.5\n",
      "32      Focus  2019  18990     8400   Petrol  60.1\n",
      "...       ...   ...    ...      ...      ...   ...\n",
      "17905   Focus  2018  12849    16128   Petrol  57.7\n",
      "17929   Focus  2017  18500    10960   Petrol  41.5\n",
      "17933   Focus  2017  11000    17339   Petrol  60.1\n",
      "17954   Focus  2016  16000    19834   Petrol  41.5\n",
      "17965   Focus  2015   8299     5007   Petrol  57.7\n",
      "\n",
      "[2981 rows x 6 columns]\n",
      "Focus_Diesel \n",
      "         model  year  price  mileage fuelType   mpg\n",
      "48      Focus  2019  17970    10985   Diesel  74.3\n",
      "57      Focus  2019  17995    11496   Diesel  57.6\n",
      "77      Focus  2015   7830    50124   Diesel  74.3\n",
      "97      Focus  2018  18298    21456   Diesel  67.3\n",
      "98      Focus  2015   9198    31512   Diesel  74.3\n",
      "...       ...   ...    ...      ...      ...   ...\n",
      "17799   Focus  2017  11750    32746   Diesel  74.3\n",
      "17835   Focus  2015   7500    67107   Diesel  74.3\n",
      "17927   Focus  2018  14000     8724   Diesel  74.3\n",
      "17942   Focus  2015   8000    65000   Diesel  74.3\n",
      "17963   Focus  2015   9999     7010   Diesel  67.3\n",
      "\n",
      "[1608 rows x 6 columns]\n",
      "Kuga_petrol \n",
      "        model  year  price  mileage fuelType   mpg\n",
      "61      Kuga  2018  17998    12162   Petrol  39.2\n",
      "66      Kuga  2019  17698     4844   Petrol  34.4\n",
      "72      Kuga  2019  18760    10237   Petrol  39.2\n",
      "75      Kuga  2017  17920    15815   Petrol  38.2\n",
      "104     Kuga  2017  13998    13265   Petrol  38.2\n",
      "...      ...   ...    ...      ...      ...   ...\n",
      "17878   Kuga  2018  20950    22000   Petrol  31.0\n",
      "17883   Kuga  2018  13849    19393   Petrol  39.2\n",
      "17922   Kuga  2017  18200    14171   Petrol  38.2\n",
      "17937   Kuga  2018  17999     9725   Petrol  38.2\n",
      "17950   Kuga  2018  17999    10957   Petrol  45.6\n",
      "\n",
      "[462 rows x 6 columns]\n",
      "Kuga_Diesel \n",
      "        model  year  price  mileage fuelType   mpg\n",
      "8       Kuga  2019  25500     6894   Diesel  42.2\n",
      "13      Kuga  2018  17999     9002   Diesel  54.3\n",
      "14      Kuga  2018  18999     8970   Diesel  58.9\n",
      "15      Kuga  2018  14399    12810   Diesel  64.2\n",
      "16      Kuga  2019  17999    10428   Diesel  38.2\n",
      "...      ...   ...    ...      ...      ...   ...\n",
      "17926   Kuga  2016  13800    26747   Diesel  60.1\n",
      "17934   Kuga  2019  18999     5046   Diesel  47.9\n",
      "17947   Kuga  2018  17199    26000   Diesel  54.3\n",
      "17948   Kuga  2017  16500    27367   Diesel  54.3\n",
      "17949   Kuga  2018  16500    33646   Diesel  60.1\n",
      "\n",
      "[1758 rows x 6 columns]\n"
     ]
    }
   ],
   "source": [
    "print(\"Fiesta_petrol \\n\",Pfi_df)\n",
    "print(\"Fiesta_Diesel \\n\",Dfi_df)\n",
    "print(\"Focus_petrol \\n\",Pfo_df)\n",
    "print(\"Focus_Diesel \\n\",Dfo_df)\n",
    "print(\"Kuga_petrol \\n\",Pku_df)\n",
    "print(\"Kuga_Diesel \\n\",Dku_df)"
   ]
  },
  {
   "attachments": {},
   "cell_type": "markdown",
   "metadata": {},
   "source": [
    "Part 2 : lasso 회귀분석\n",
    "<pre>\n",
    "-산점도로 연관성 확인\n",
    "-lasso를 이용해서 선형, 다항회귀분석\n",
    "-중간에 제일 연관성 없어보이는 mpg 제거해서 예측하고 결과 비교\n",
    "</pre>"
   ]
  },
  {
   "cell_type": "code",
   "execution_count": 12,
   "metadata": {},
   "outputs": [
    {
     "data": {
      "image/png": "[encoded data removed]",
      "text/plain": [
       "<Figure size 640x480 with 1 Axes>"
      ]
     },
     "metadata": {},
     "output_type": "display_data"
    },
    {
     "name": "stdout",
     "output_type": "stream",
     "text": [
      "상관계수: -0.17027560509060596\n",
      "p-value: 2.538616347894435e-41\n"
     ]
    }
   ],
   "source": [
    "plt.title(\"mpg-price\",pad=10)\n",
    "plt.xlabel(\"mpg\",labelpad=10)\n",
    "plt.ylabel(\"price\",labelpad=10)\n",
    "plt.scatter(Pfi_df[\"mpg\"], Pfi_df[\"price\"],label='training points')\n",
    "plt.show()\n",
    "correlation, p_value = pearsonr(Pfi_df[\"mpg\"].values, Pfi_df[\"price\"].values)\n",
    "print(\"상관계수:\", correlation)\n",
    "print(\"p-value:\", p_value)#둘이 mpg와 price는 서로 거의 상관 없음을 알 수 있다."
   ]
  },
  {
   "cell_type": "code",
   "execution_count": 13,
   "metadata": {},
   "outputs": [
    {
     "data": {
      "image/png": "[encoded data removed]",
      "text/plain": [
       "<Figure size 640x480 with 1 Axes>"
      ]
     },
     "metadata": {},
     "output_type": "display_data"
    }
   ],
   "source": [
    "plt.scatter(Pfi_df[\"year\"], Pfi_df[\"price\"],label='training points')\n",
    "plt.show()"
   ]
  },
  {
   "cell_type": "code",
   "execution_count": 14,
   "metadata": {},
   "outputs": [
    {
     "data": {
      "image/png": "[encoded data removed]",
      "text/plain": [
       "<Figure size 640x480 with 1 Axes>"
      ]
     },
     "metadata": {},
     "output_type": "display_data"
    }
   ],
   "source": [
    "plt.scatter(Pfi_df[\"mileage\"], Pfi_df[\"price\"],label='training points')\n",
    "plt.show()"
   ]
  },
  {
   "attachments": {},
   "cell_type": "markdown",
   "metadata": {},
   "source": [
    "2. 비선형 회귀 분석(라쏘로 mpg 변수 지웠을 때와 그냥 비선형 했을 때를 비교하여 예측하려는 값과 관계가 없는(상관계수 0에 가까운) 변수는 지우는 것이 더 정확함을 보이기(r2값 더 낮을 것임))"
   ]
  },
  {
   "attachments": {},
   "cell_type": "markdown",
   "metadata": {},
   "source": [
    "3. 라쏘 회귀 분석"
   ]
  },
  {
   "cell_type": "code",
   "execution_count": 15,
   "metadata": {},
   "outputs": [
    {
     "name": "stdout",
     "output_type": "stream",
     "text": [
      "Xfd_train : \n",
      "          model  year  mileage fuelType   mpg\n",
      "17565   Fiesta  2018    43826   Diesel  58.9\n",
      "9221    Fiesta  2019     8572   Diesel  58.9\n",
      "6766    Fiesta  2017    55535   Diesel  78.5\n",
      "14971   Fiesta  2016    16060   Diesel  78.5\n",
      "16607   Fiesta  2014    37812   Diesel  76.4\n",
      "...        ...   ...      ...      ...   ...\n",
      "9623    Fiesta  2017    13632   Diesel  88.3\n",
      "13981   Fiesta  2010    91000   Diesel  68.9\n",
      "3645    Fiesta  2015    41758   Diesel  88.3\n",
      "12873   Fiesta  2017    26391   Diesel  88.3\n",
      "2060    Fiesta  2019    11086   Diesel  55.4\n",
      "\n",
      "[314 rows x 5 columns]\n",
      "yfd_train : \n",
      " [ 9300 12700  8600  8299  7299  5207  9899 11188  4431  5391  3999  9498\n",
      "  4995 10780  6485  6995  6000  6750 10999  7650  3200  9947  7010  9440\n",
      "  9300  9241  3990  3495  5500  7290  5640  7490  8449  7999 10798  8998\n",
      "  6490  8295  5591  7599  5500  8299  9798  9998  4350  7791  7750 10399\n",
      "  9000  9000  7550  5994  3995  9998  8000 11060 10700  6698 10799  8220\n",
      "  8498  7480  7410  6690  9795  6495 11500  6260  7999  7691 12995  8000\n",
      "  9851  7995  6695  4495 11000  2250  6298  5800 11950  6800 10699 12798\n",
      "  7499  8290  8200  7549  5995  8399 10295  7491  6998 10500  5770 11997\n",
      "  9275 11291 13495  9480  6491 11512 10798  6499 11500  4852 12495 10151\n",
      "  9800 10497  4490  5991 10698 11900  8691  3995  1299 11000  8991  5998\n",
      "  7160 11990  8691  9300  5995  5250  7626 10870  5500  7995  7699  6998\n",
      "  8995  7395  6810  8499  6991  6500 11000 11287  2950 11000  8700  4990\n",
      " 13995 13995  7240  7710 11495  6592  8999  6800 12490  9698 10391 10137\n",
      "  6940 10500 12000  9899  6191 11057  8900  6970  6295 12995  7150 12470\n",
      "  7650  8920  7695 13199  7298  4995  7691 11900  6990 13500  7750  9295\n",
      "  7200  8240 11990 13495  7998 11495  9795 10999  6491  5850  7491  8499\n",
      " 11420 12000  7495 10200  9891 12299  9295  3249  4998  7991 10790  7700\n",
      "  6191  6991  9695 10800  6998  5450 10300  5295  6495  6520 13399  6698\n",
      "  7449  8498  7999  8399 12000  6200  5990  8700  7770  6999  6990 10298\n",
      " 12990  4963  5900 10000 10390 10199  9299  7550  5340  5500  8200  7390\n",
      "  7499  8999  7299  5176 10399  6800  8991 12350  7499  9291  7676 11595\n",
      "  9060  9999  5599 14350  8492  6940  6970  5570 12500  8998  5298  7511\n",
      "  7230  7560  7500  8250  6497  9998  7989  9995  3995  6890  9000 10998\n",
      "  6998  6840  7695  9999  5490  9495 10400  5998  3789  7298  9300 15000\n",
      "  5950  7100 10750  9799  2995 16479 10750  7220  8895  5245  8999  3995\n",
      "  5356  9200  5949  8590 11998  9750  8999  5699  6760 11500  4750  7610\n",
      "  9420 12595]\n"
     ]
    },
    {
     "data": {
      "text/plain": [
       "numpy.ndarray"
      ]
     },
     "execution_count": 15,
     "metadata": {},
     "output_type": "execute_result"
    }
   ],
   "source": [
    "#training set, data set 분리\n",
    "from sklearn.model_selection import train_test_split\n",
    "\n",
    "#Pfi_df = fi_df[fi_df['fuelType'] == 'Petrol']\n",
    "#Dfi_df = fi_df[fi_df['fuelType'] == 'Diesel']\n",
    "#Pfo_df = fo_df[fo_df['fuelType'] == 'Petrol']\n",
    "#Dfo_df = fo_df[fo_df['fuelType'] == 'Diesel']\n",
    "#Pku_df = ku_df[ku_df['fuelType'] == 'Petrol']\n",
    "#Dku_df = ku_df[ku_df['fuelType'] == 'Diesel']\n",
    "\n",
    "#휘발유 사용하는 Fiesta 가격(fiesta_petrol) \n",
    "Xfp_train, Xfp_test, yfp_train, yfp_test = train_test_split(\n",
    "    Pfi_df.drop(['price'],axis=1), Pfi_df['price'].to_numpy(), test_size=0.2, random_state=1)#train과 test 데이터 분할한 것(랜덤으로)\n",
    "#print(\"Pfi_df \\n\",Pfi_df)\n",
    "#print(\"Xfp_train \\n\",Xfp_train)\n",
    "#print(\"yfp_train \\n\",yfp_train )\n",
    "#print(len(yfp_train))\n",
    "\n",
    "#디젤 사용하는 Fiesta 가격(fiesta_diesel)\n",
    "Xfd_train, Xfd_test, yfd_train, tfd_test = train_test_split(\n",
    "    Dfi_df.drop(['price'],axis=1), Dfi_df['price'].to_numpy(), test_size=0.2, random_state=1)\n",
    "\n",
    "print(\"Xfd_train : \\n\", Xfd_train)\n",
    "print(\"yfd_train : \\n\", yfd_train)\n",
    "type(yfd_train)"
   ]
  },
  {
   "cell_type": "code",
   "execution_count": 16,
   "metadata": {},
   "outputs": [],
   "source": [
    "# 각 변수를 일차식, 이차식 or 3차식으로 바꿔 해보고, r2계산해서 어떤 것이 더 잘 맞는지 볼 것\n",
    "regr = LinearRegression()\n",
    "quadratic = PolynomialFeatures(degree=2)\n",
    "cubic = PolynomialFeatures(degree=3)"
   ]
  },
  {
   "attachments": {},
   "cell_type": "markdown",
   "metadata": {},
   "source": [
    "1. Fiesta-petrolleum 회귀"
   ]
  },
  {
   "attachments": {},
   "cell_type": "markdown",
   "metadata": {},
   "source": [
    "1-2. lasso 회귀"
   ]
  },
  {
   "attachments": {},
   "cell_type": "markdown",
   "metadata": {},
   "source": [
    "1-2-1. 2차 다항회귀 응용"
   ]
  },
  {
   "cell_type": "code",
   "execution_count": 17,
   "metadata": {},
   "outputs": [
    {
     "name": "stdout",
     "output_type": "stream",
     "text": [
      "quad+linear coeff \n",
      ":  [ 0.00000000e+00  0.00000000e+00  1.88295663e-01 -1.31149054e-01\n",
      "  9.99523484e-07 -7.94845319e+01]\n",
      "quad+linear constant \n",
      ":  -748816.322399917\n",
      "fiesta-petrolleum r2_score quad with mpg lasso \n",
      " 0.7218976217667401\n"
     ]
    }
   ],
   "source": [
    "#데이터 프레임에서 변수로 쓸 열을 한 개씩 꺼내 각각의 numpy\n",
    "#변수별로 2차 다항회귀 응용\n",
    "#mpg 변수 사용했을 때\n",
    "Xfpt_year=Xfp_train[['year']].values; Xfpt_mileage=Xfp_train[['mileage']].values ; Xfpt_mpg=Xfp_train[['mpg']].values\n",
    "\n",
    "# 1 위의 산점도를 보면, year, mileage 모두, 다항식 곡선 형태와 비슷하므로, year, mileage는 다항식으로 바꿀 것\n",
    "# 2 mpg는 애초에 산점도 보면, price와 거의 관계가 없다는 것을 알 수 있으니, 그냥 lasso회귀시 사라질 것 - 딱히 작업 따로 x\n",
    "# 3 다항식의 형태로 전환한 year, mileage와 mpg 행렬들을 하나로 합칠 것.\n",
    "#  이후, linearRegression.fit으로 계산\n",
    "#\n",
    "lasso = Lasso(alpha=300.0)#alpha는 정규화의 강도를 조절하는 하이퍼파라미터로, 교수님 강의 노트의 ridge, lasso의 lambda부분\n",
    "quadratic = PolynomialFeatures(degree=2)\n",
    "Xfpt_year_quad = quadratic.fit_transform(Xfpt_year)\n",
    "Xfpt_mileage_quad = quadratic.fit_transform(Xfpt_mileage)\n",
    "#print(\"Xfpt_year_quad \\n\", Xfpt_year_quad)\n",
    "#print(\"Xfpt_mileage_quad \\n\", Xfpt_mileage_quad)\n",
    "\n",
    "#다시 training set 한개의 행렬로 합치기(즉, Xfpt는 전체 training set이 된다.)\n",
    "Xfpt=np.concatenate((Xfpt_year_quad,Xfpt_mileage_quad,Xfpt_mpg),axis=1)#열로서 행렬 합치기.(즉, 7열이 된다.)\n",
    "#1열: 상수 , 2열 : year 1차 , 3열 : year 2차(제곱) , 4열 : 상수 , 5열 : mileage 1차, 6열 : mileage 2차, 7열 : mpg -> 실제 다항식에서는 상수항은 하나이니, 4열은 빼서 6열로 만드는 것이 맞다!\n",
    "Xfpt=np.delete(Xfpt,3,axis=1)#index=3인 열(상수) 제거\n",
    "\n",
    "#print(\"Xfpt : \\n\",Xfpt)\n",
    "#print(\"Xfpt[0:9,:] : \\n\", Xfpt[0:9,:])\n",
    "#print(Xfpt.shape)\n",
    "#regr, 즉, linearRegression하면, 이 Xfpt 각 열의 coeff가 결정될 것\n",
    "\n",
    "#training set으로 fit(lasso 최소가 되게 하는 coeff구하기)\n",
    "lasso=lasso.fit(Xfpt,yfp_train)\n",
    "print(\"quad+linear coeff \\n: \", lasso.coef_)\n",
    "print(\"quad+linear constant \\n: \", lasso.intercept_)\n",
    "\n",
    "#성능 test(다시 입력값 test set부터 위와 같은 방식으로 다항식으로 만들어야 됨)\n",
    "Xfptest_year=Xfp_test[['year']].values; Xfptest_mileage=Xfp_test[['mileage']].values ; Xfptest_mpg=Xfp_test[['mpg']].values\n",
    "Xfptest_year_quad = quadratic.fit_transform(Xfptest_year)\n",
    "Xfptest_mileage_quad = quadratic.fit_transform(Xfptest_mileage)\n",
    "Xfptest=np.concatenate((Xfptest_year_quad,Xfptest_mileage_quad,Xfptest_mpg),axis=1)\n",
    "Xfptest=np.delete(Xfptest,3,axis=1)\n",
    "yfp_predicted=lasso.predict(Xfptest)#test 입력값으로 예측한 값들\n",
    "fp_r2_with_mpg_quad_lasso=r2_score(yfp_test,yfp_predicted)\n",
    "print(\"fiesta-petrolleum r2_score quad with mpg lasso \\n\", fp_r2_with_mpg_quad_lasso)"
   ]
  },
  {
   "cell_type": "code",
   "execution_count": 18,
   "metadata": {},
   "outputs": [
    {
     "name": "stdout",
     "output_type": "stream",
     "text": [
      "quad+linear coeff \n",
      ":  [ 0.00000000e+00  0.00000000e+00  1.81314473e-01 -1.51340895e-01\n",
      "  1.28144928e-06]\n",
      "quad+linear constant \n",
      ":  -724944.5991948713\n",
      "fiesta-petrolleum r2_score quad with mpg lasso \n",
      " 0.7218976217667401\n",
      "fiesta-petrolleum r2_score quad without mpg lasso \n",
      " 0.6939703282047018\n"
     ]
    }
   ],
   "source": [
    "#mpg 변수 사용하지 않았을 때\n",
    "Xfpt_year=Xfp_train[['year']].values; Xfpt_mileage=Xfp_train[['mileage']].values\n",
    "\n",
    "lasso = Lasso(alpha=300.0)#alpha는 정규화의 강도를 조절하는 하이퍼파라미터로, 교수님 강의 노트의 ridge, lasso의 lambda부분\n",
    "quadratic = PolynomialFeatures(degree=2)\n",
    "Xfpt_year_quad = quadratic.fit_transform(Xfpt_year)\n",
    "Xfpt_mileage_quad = quadratic.fit_transform(Xfpt_mileage)\n",
    "\n",
    "#다시 training set 한개의 행렬로 합치기(즉, Xfpt는 전체 training set이 된다.)\n",
    "Xfpt=np.concatenate((Xfpt_year_quad,Xfpt_mileage_quad),axis=1)#열로서 행렬 합치기.\n",
    "#1열: 상수 , 2열 : year 1차 , 3열 : year 2차(제곱) , 4열 : 상수 , 5열 : mileage 1차, 6열 : mileage 2차 -> 실제 다항식에서는 상수항은 하나이니, 4열은 빼서 6열로 만드는 것이 맞다!\n",
    "Xfpt=np.delete(Xfpt,3,axis=1)#index=3인 열(상수) 제거\n",
    "\n",
    "#training set으로 fit(lasso 최소가 되게 하는 coeff구하기)\n",
    "lasso=lasso.fit(Xfpt,yfp_train)\n",
    "print(\"quad+linear coeff \\n: \", lasso.coef_)\n",
    "print(\"quad+linear constant \\n: \", lasso.intercept_)\n",
    "\n",
    "#성능 test(다시 입력값 test set부터 위와 같은 방식으로 다항식으로 만들어야 됨)\n",
    "Xfptest_year=Xfp_test[['year']].values; Xfptest_mileage=Xfp_test[['mileage']].values \n",
    "Xfptest_year_quad = quadratic.fit_transform(Xfptest_year)\n",
    "Xfptest_mileage_quad = quadratic.fit_transform(Xfptest_mileage)\n",
    "Xfptest=np.concatenate((Xfptest_year_quad,Xfptest_mileage_quad),axis=1)\n",
    "Xfptest=np.delete(Xfptest,3,axis=1)\n",
    "yfp_predicted=lasso.predict(Xfptest)#test 입력값으로 예측한 값들\n",
    "fp_r2_without_mpg_quad_lasso=r2_score(yfp_test,yfp_predicted)\n",
    "print(\"fiesta-petrolleum r2_score quad with mpg lasso \\n\", fp_r2_with_mpg_quad_lasso)\n",
    "print(\"fiesta-petrolleum r2_score quad without mpg lasso \\n\", fp_r2_without_mpg_quad_lasso)\n",
    "#질문 : mpg와 price는 위 산점도를 보면, 거의 상관관계가 없어보이지만, 왜 r2는 mpg를 꼈을 때, 더 높게 나오는지?"
   ]
  },
  {
   "attachments": {},
   "cell_type": "markdown",
   "metadata": {},
   "source": [
    "1-2-2 3차 다항회귀 응용"
   ]
  },
  {
   "cell_type": "code",
   "execution_count": 19,
   "metadata": {},
   "outputs": [
    {
     "name": "stdout",
     "output_type": "stream",
     "text": [
      "quad+linear coeff \n",
      ":  [ 0.00000000e+00  0.00000000e+00  3.52316372e-01 -5.53239630e-05\n",
      " -1.96910427e-01  3.06358589e-06 -1.60240784e-11 -7.41186797e+01]\n",
      "quad+linear constant \n",
      ":  -961987.4400068393\n",
      "fiesta-petrolleum r2_score cubic with mpg lasso \n",
      " 0.7281765691030102\n"
     ]
    },
    {
     "name": "stderr",
     "output_type": "stream",
     "text": [
      "c:\\Users\\USER\\AppData\\Local\\Programs\\Python\\Python311\\Lib\\site-packages\\sklearn\\linear_model\\_coordinate_descent.py:631: ConvergenceWarning: Objective did not converge. You might want to increase the number of iterations, check the scale of the features or consider increasing regularisation. Duality gap: 6.147e+09, tolerance: 4.146e+06\n",
      "  model = cd_fast.enet_coordinate_descent(\n"
     ]
    }
   ],
   "source": [
    "#변수별로 3차 다항회귀 응용\n",
    "#mpg 변수 사용했을 때\n",
    "Xfpt_year=Xfp_train[['year']].values; Xfpt_mileage=Xfp_train[['mileage']].values ; Xfpt_mpg=Xfp_train[['mpg']].values\n",
    "\n",
    "lasso = Lasso(alpha=300.0)#alpha는 정규화의 강도를 조절하는 하이퍼파라미터로, 교수님 강의 노트의 ridge, lasso의 lambda부분\n",
    "cubic = PolynomialFeatures(degree=3)\n",
    "Xfpt_year_cubic = cubic.fit_transform(Xfpt_year)\n",
    "Xfpt_mileage_cubic = cubic.fit_transform(Xfpt_mileage)\n",
    "#print(\"Xfpt_year_quad \\n\", Xfpt_year_quad)\n",
    "#print(\"Xfpt_mileage_quad \\n\", Xfpt_mileage_quad)\n",
    "\n",
    "#다시 training set 한개의 행렬로 합치기(즉, Xfpt는 전체 training set이 된다.)\n",
    "Xfpt=np.concatenate((Xfpt_year_cubic,Xfpt_mileage_cubic,Xfpt_mpg),axis=1)#열로서 행렬 합치기.(즉, 9열이 된다.)\n",
    "#1열: 상수 , 2열 : year 1차 , 3열 : year 2차(제곱) , 4열 : year 3차(세제곱) , 5열 : 상수, 6열 : mileage 1차, 7열 : mileage 2차, 8열 : mileage 3차 9열 : mpg -> 실제 다항식에서는 상수항은 하나이니, 5열은 빼서 8열로 만드는 것이 맞다!\n",
    "Xfpt=np.delete(Xfpt,4,axis=1)#index=3인 열(상수) 제거\n",
    "\n",
    "#training set으로 fit(lasso 최소가 되게 하는 coeff구하기)\n",
    "lasso=lasso.fit(Xfpt,yfp_train)\n",
    "print(\"quad+linear coeff \\n: \", lasso.coef_)\n",
    "print(\"quad+linear constant \\n: \", lasso.intercept_)\n",
    "\n",
    "#성능 test(다시 입력값 test set부터 위와 같은 방식으로 다항식으로 만들어야 됨)\n",
    "Xfptest_year=Xfp_test[['year']].values; Xfptest_mileage=Xfp_test[['mileage']].values ; Xfptest_mpg=Xfp_test[['mpg']].values\n",
    "Xfptest_year_cubic =  cubic.fit_transform(Xfptest_year)\n",
    "Xfptest_mileage_cubic = cubic.fit_transform(Xfptest_mileage)\n",
    "Xfptest=np.concatenate((Xfptest_year_cubic,Xfptest_mileage_cubic,Xfptest_mpg),axis=1)\n",
    "Xfptest=np.delete(Xfptest,4,axis=1)\n",
    "yfp_predicted=lasso.predict(Xfptest)#test 입력값으로 예측한 값들\n",
    "\n",
    "#r2 score(결정계수)\n",
    "fp_r2_with_mpg_cubic_lasso=r2_score(yfp_test,yfp_predicted)\n",
    "print(\"fiesta-petrolleum r2_score cubic with mpg lasso \\n\", fp_r2_with_mpg_cubic_lasso)"
   ]
  },
  {
   "cell_type": "code",
   "execution_count": 20,
   "metadata": {},
   "outputs": [
    {
     "name": "stdout",
     "output_type": "stream",
     "text": [
      "quad+linear coeff \n",
      ":  [ 0.00000000e+00  0.00000000e+00  3.20028363e-01 -4.70880759e-05\n",
      " -2.36166350e-01  3.97576286e-06 -2.11177940e-11]\n",
      "quad+linear constant \n",
      ":  -902295.4415706466\n",
      "fiesta-petrolleum r2_score cubic without mpg lasso \n",
      " 0.7041888327867796\n"
     ]
    },
    {
     "name": "stderr",
     "output_type": "stream",
     "text": [
      "c:\\Users\\USER\\AppData\\Local\\Programs\\Python\\Python311\\Lib\\site-packages\\sklearn\\linear_model\\_coordinate_descent.py:631: ConvergenceWarning: Objective did not converge. You might want to increase the number of iterations, check the scale of the features or consider increasing regularisation. Duality gap: 6.643e+09, tolerance: 4.146e+06\n",
      "  model = cd_fast.enet_coordinate_descent(\n"
     ]
    }
   ],
   "source": [
    "#변수별로 3차 다항회귀 응용\n",
    "#mpg 변수 사용 안 했을 때\n",
    "Xfpt_year=Xfp_train[['year']].values; Xfpt_mileage=Xfp_train[['mileage']].values\n",
    "\n",
    "lasso = Lasso(alpha=300.0)#alpha는 정규화의 강도를 조절하는 하이퍼파라미터로, 교수님 강의 노트의 ridge, lasso의 lambda부분\n",
    "cubic = PolynomialFeatures(degree=3)\n",
    "Xfpt_year_cubic = cubic.fit_transform(Xfpt_year)\n",
    "Xfpt_mileage_cubic = cubic.fit_transform(Xfpt_mileage)\n",
    "#print(\"Xfpt_year_quad \\n\", Xfpt_year_quad)\n",
    "#print(\"Xfpt_mileage_quad \\n\", Xfpt_mileage_quad)\n",
    "\n",
    "#다시 training set 한개의 행렬로 합치기(즉, Xfpt는 전체 training set이 된다.)\n",
    "Xfpt=np.concatenate((Xfpt_year_cubic,Xfpt_mileage_cubic),axis=1)#열로서 행렬 합치기.(즉, 9열이 된다.)\n",
    "#1열: 상수 , 2열 : year 1차 , 3열 : year 2차(제곱) , 4열 : year 3차(세제곱) , 5열 : 상수, 6열 : mileage 1차, 7열 : mileage 2차, 8열 : mileage 3차 9열 : mpg -> 실제 다항식에서는 상수항은 하나이니, 5열은 빼서 8열로 만드는 것이 맞다!\n",
    "Xfpt=np.delete(Xfpt,4,axis=1)#index=3인 열(상수) 제거\n",
    "\n",
    "#training set으로 fit(lasso 최소가 되게 하는 coeff구하기)\n",
    "lasso=lasso.fit(Xfpt,yfp_train)\n",
    "print(\"quad+linear coeff \\n: \", lasso.coef_)\n",
    "print(\"quad+linear constant \\n: \", lasso.intercept_)\n",
    "\n",
    "#성능 test(다시 입력값 test set부터 위와 같은 방식으로 다항식으로 만들어야 됨)\n",
    "Xfptest_year=Xfp_test[['year']].values; Xfptest_mileage=Xfp_test[['mileage']].values \n",
    "Xfptest_year_cubic =  cubic.fit_transform(Xfptest_year)\n",
    "Xfptest_mileage_cubic = cubic.fit_transform(Xfptest_mileage)\n",
    "Xfptest=np.concatenate((Xfptest_year_cubic,Xfptest_mileage_cubic),axis=1)\n",
    "Xfptest=np.delete(Xfptest,4,axis=1)\n",
    "yfp_predicted=lasso.predict(Xfptest)#test 입력값으로 예측한 값들\n",
    "\n",
    "#r2 score(결정계수)\n",
    "fp_r2_without_mpg_cubic_lasso=r2_score(yfp_test,yfp_predicted)\n",
    "print(\"fiesta-petrolleum r2_score cubic without mpg lasso \\n\", fp_r2_without_mpg_cubic_lasso)"
   ]
  },
  {
   "attachments": {},
   "cell_type": "markdown",
   "metadata": {},
   "source": [
    "1-2-3 일반 linear regression, lasso"
   ]
  },
  {
   "cell_type": "code",
   "execution_count": 21,
   "metadata": {},
   "outputs": [
    {
     "name": "stdout",
     "output_type": "stream",
     "text": [
      "quad+linear coeff \n",
      ":  [ 6.37987078e+02 -7.63906133e-02 -9.33216130e+01]\n",
      "quad+linear constant \n",
      ":  -1269254.4613072847\n",
      "fiesta-petrolleum r2_score linear lasso with mpg \n",
      " 0.6909212236773143\n"
     ]
    },
    {
     "name": "stderr",
     "output_type": "stream",
     "text": [
      "c:\\Users\\USER\\AppData\\Local\\Programs\\Python\\Python311\\Lib\\site-packages\\sklearn\\base.py:432: UserWarning: X has feature names, but Lasso was fitted without feature names\n",
      "  warnings.warn(\n"
     ]
    }
   ],
   "source": [
    "#일반 3차 linear regression을 lasso로\n",
    "#mpg 변수 사용했을 때\n",
    "Xfpt = Xfp_train[['year', 'mileage', 'mpg']].values\n",
    "lasso = Lasso(alpha=300.0)#alpha는 정규화의 강도를 조절하는 하이퍼파라미터로, 교수님 강의 노트의 ridge, lasso의 lambda부분\n",
    "\n",
    "#training set으로 fit(lasso 최소가 되게 하는 coeff구하기)\n",
    "lasso=lasso.fit(Xfpt,yfp_train)\n",
    "print(\"quad+linear coeff \\n: \", lasso.coef_)\n",
    "print(\"quad+linear constant \\n: \", lasso.intercept_)\n",
    "\n",
    "#성능 test(다시 입력값 test set부터 위와 같은 방식으로 다항식으로 만들어야 됨)\n",
    "Xfptest= Xfp_test[['year', 'mileage', 'mpg']]\n",
    "yfp_predicted=lasso.predict(Xfptest)#test 입력값으로 예측한 값들\n",
    "\n",
    "#r2 score(결정계수)\n",
    "fp_r2_with_mpg_linear_lasso=r2_score(yfp_test,yfp_predicted)\n",
    "print(\"fiesta-petrolleum r2_score linear lasso with mpg \\n\", fp_r2_with_mpg_linear_lasso)"
   ]
  },
  {
   "cell_type": "code",
   "execution_count": 22,
   "metadata": {},
   "outputs": [
    {
     "name": "stdout",
     "output_type": "stream",
     "text": [
      "quad+linear coeff \n",
      ":  [ 6.03712931e+02 -7.84862414e-02]\n",
      "quad+linear constant \n",
      ":  -1205670.716870446\n",
      "fiesta-petrolleum r2_score linear without mpg lasso\n",
      " 0.6487928347855996\n"
     ]
    },
    {
     "name": "stderr",
     "output_type": "stream",
     "text": [
      "c:\\Users\\USER\\AppData\\Local\\Programs\\Python\\Python311\\Lib\\site-packages\\sklearn\\base.py:432: UserWarning: X has feature names, but Lasso was fitted without feature names\n",
      "  warnings.warn(\n"
     ]
    }
   ],
   "source": [
    "#일반 3차 linear regression을 lasso로\n",
    "#mpg 변수 사용 안 했을 때\n",
    "Xfpt = Xfp_train[['year', 'mileage']].values\n",
    "lasso = Lasso(alpha=300.0)#alpha는 정규화의 강도를 조절하는 하이퍼파라미터로, 교수님 강의 노트의 ridge, lasso의 lambda부분\n",
    "\n",
    "#training set으로 fit(lasso 최소가 되게 하는 coeff구하기)\n",
    "lasso=lasso.fit(Xfpt,yfp_train)\n",
    "print(\"quad+linear coeff \\n: \", lasso.coef_)\n",
    "print(\"quad+linear constant \\n: \", lasso.intercept_)\n",
    "\n",
    "#성능 test(다시 입력값 test set부터 위와 같은 방식으로 다항식으로 만들어야 됨)\n",
    "Xfptest= Xfp_test[['year', 'mileage']]\n",
    "yfp_predicted=lasso.predict(Xfptest)#test 입력값으로 예측한 값들\n",
    "\n",
    "#r2 score(결정계수)\n",
    "fp_r2_without_mpg_linear_lasso=r2_score(yfp_test,yfp_predicted)\n",
    "print(\"fiesta-petrolleum r2_score linear without mpg lasso\\n\", fp_r2_without_mpg_linear_lasso)"
   ]
  },
  {
   "cell_type": "code",
   "execution_count": 23,
   "metadata": {},
   "outputs": [
    {
     "name": "stdout",
     "output_type": "stream",
     "text": [
      "fiesta-petrolleum r2_score linear lasso with mpg \n",
      " 0.6909212236773143\n",
      "fiesta-petrolleum r2_score linear without mpg lasso\n",
      " 0.6487928347855996\n",
      "fiesta-petrolleum r2_score quad with mpg lasso \n",
      " 0.7218976217667401\n",
      "fiesta-petrolleum r2_score quad without mpg lasso \n",
      " 0.6939703282047018\n",
      "fiesta-petrolleum r2_score cubic with mpg lasso \n",
      " 0.7281765691030102\n",
      "fiesta-petrolleum r2_score cubic without mpg lasso \n",
      " 0.7041888327867796\n"
     ]
    }
   ],
   "source": [
    "#3차 다항식, 2차 다항식, 선형회귀 lasso 응용시 결정계수 비교\n",
    "print(\"fiesta-petrolleum r2_score linear lasso with mpg \\n\", fp_r2_with_mpg_linear_lasso)\n",
    "print(\"fiesta-petrolleum r2_score linear without mpg lasso\\n\", fp_r2_without_mpg_linear_lasso)\n",
    "print(\"fiesta-petrolleum r2_score quad with mpg lasso \\n\", fp_r2_with_mpg_quad_lasso)\n",
    "print(\"fiesta-petrolleum r2_score quad without mpg lasso \\n\", fp_r2_without_mpg_quad_lasso)\n",
    "print(\"fiesta-petrolleum r2_score cubic with mpg lasso \\n\", fp_r2_with_mpg_cubic_lasso)\n",
    "print(\"fiesta-petrolleum r2_score cubic without mpg lasso \\n\", fp_r2_without_mpg_cubic_lasso)"
   ]
  },
  {
   "attachments": {},
   "cell_type": "markdown",
   "metadata": {},
   "source": [
    "3. 결론"
   ]
  },
  {
   "attachments": {},
   "cell_type": "markdown",
   "metadata": {},
   "source": [
    "1) price와 상관관계가 깊은 year와 mileage의 경우, 각각의 차수가 커질수록, 회귀분석의 정확도가 증가한다.\n",
    "2) price와 상관관계가 없는(상관계수 0에 가까운) mpg가 변수로 존재할 때, 회귀분석의 정확도가 언제나(1차, 2차, 3차 다항식 모두) 증가했다. 즉, 상관관계가 없어 보이는 변수도 있을 때 더 정확할 수 있는 것을 보면, 상관계수나 산점도가 두 변수 사이의 관계의 유무를 완벽히 보여줄 수는 없는 것을 알 수 있다."
   ]
  },
  {
   "attachments": {},
   "cell_type": "markdown",
   "metadata": {},
   "source": [
    "Part 3 : 일반 회귀분석\n",
    "<pre>\n",
    "-상관계수를 이용하여 변수들 사이 관계 확인\n",
    "-선형, 다항 회귀분석을 통해 가격 예측\n",
    "-상관계수 가장 낮은 변수를 제거하며 정확도 비교\n",
    "</pre>"
   ]
  },
  {
   "attachments": {},
   "cell_type": "markdown",
   "metadata": {},
   "source": [
    "1. 사용하고자 하는 변수들 중 의미 없는 변수 가려내기"
   ]
  },
  {
   "cell_type": "code",
   "execution_count": 24,
   "metadata": {},
   "outputs": [
    {
     "data": {
      "text/html": [
       "<div>\n",
       "<style scoped>\n",
       "    .dataframe tbody tr th:only-of-type {\n",
       "        vertical-align: middle;\n",
       "    }\n",
       "\n",
       "    .dataframe tbody tr th {\n",
       "        vertical-align: top;\n",
       "    }\n",
       "\n",
       "    .dataframe thead th {\n",
       "        text-align: right;\n",
       "    }\n",
       "</style>\n",
       "<table border=\"1\" class=\"dataframe\">\n",
       "  <thead>\n",
       "    <tr style=\"text-align: right;\">\n",
       "      <th></th>\n",
       "      <th>model</th>\n",
       "      <th>year</th>\n",
       "      <th>price</th>\n",
       "      <th>mileage</th>\n",
       "      <th>fuelType</th>\n",
       "      <th>mpg</th>\n",
       "    </tr>\n",
       "  </thead>\n",
       "  <tbody>\n",
       "    <tr>\n",
       "      <th>0</th>\n",
       "      <td>Fiesta</td>\n",
       "      <td>2017</td>\n",
       "      <td>12000</td>\n",
       "      <td>15944</td>\n",
       "      <td>Petrol</td>\n",
       "      <td>57.7</td>\n",
       "    </tr>\n",
       "    <tr>\n",
       "      <th>3</th>\n",
       "      <td>Fiesta</td>\n",
       "      <td>2019</td>\n",
       "      <td>17500</td>\n",
       "      <td>10460</td>\n",
       "      <td>Petrol</td>\n",
       "      <td>40.3</td>\n",
       "    </tr>\n",
       "    <tr>\n",
       "      <th>4</th>\n",
       "      <td>Fiesta</td>\n",
       "      <td>2019</td>\n",
       "      <td>16500</td>\n",
       "      <td>1482</td>\n",
       "      <td>Petrol</td>\n",
       "      <td>48.7</td>\n",
       "    </tr>\n",
       "    <tr>\n",
       "      <th>5</th>\n",
       "      <td>Fiesta</td>\n",
       "      <td>2015</td>\n",
       "      <td>10500</td>\n",
       "      <td>35432</td>\n",
       "      <td>Petrol</td>\n",
       "      <td>47.9</td>\n",
       "    </tr>\n",
       "    <tr>\n",
       "      <th>7</th>\n",
       "      <td>Fiesta</td>\n",
       "      <td>2017</td>\n",
       "      <td>9000</td>\n",
       "      <td>13054</td>\n",
       "      <td>Petrol</td>\n",
       "      <td>54.3</td>\n",
       "    </tr>\n",
       "    <tr>\n",
       "      <th>...</th>\n",
       "      <td>...</td>\n",
       "      <td>...</td>\n",
       "      <td>...</td>\n",
       "      <td>...</td>\n",
       "      <td>...</td>\n",
       "      <td>...</td>\n",
       "    </tr>\n",
       "    <tr>\n",
       "      <th>17945</th>\n",
       "      <td>Fiesta</td>\n",
       "      <td>2019</td>\n",
       "      <td>15999</td>\n",
       "      <td>2813</td>\n",
       "      <td>Petrol</td>\n",
       "      <td>58.9</td>\n",
       "    </tr>\n",
       "    <tr>\n",
       "      <th>17946</th>\n",
       "      <td>Fiesta</td>\n",
       "      <td>2015</td>\n",
       "      <td>8999</td>\n",
       "      <td>24546</td>\n",
       "      <td>Petrol</td>\n",
       "      <td>65.7</td>\n",
       "    </tr>\n",
       "    <tr>\n",
       "      <th>17952</th>\n",
       "      <td>Fiesta</td>\n",
       "      <td>2017</td>\n",
       "      <td>9899</td>\n",
       "      <td>16303</td>\n",
       "      <td>Petrol</td>\n",
       "      <td>57.7</td>\n",
       "    </tr>\n",
       "    <tr>\n",
       "      <th>17955</th>\n",
       "      <td>Fiesta</td>\n",
       "      <td>2018</td>\n",
       "      <td>12500</td>\n",
       "      <td>7047</td>\n",
       "      <td>Petrol</td>\n",
       "      <td>48.7</td>\n",
       "    </tr>\n",
       "    <tr>\n",
       "      <th>17960</th>\n",
       "      <td>Fiesta</td>\n",
       "      <td>2016</td>\n",
       "      <td>7999</td>\n",
       "      <td>31348</td>\n",
       "      <td>Petrol</td>\n",
       "      <td>54.3</td>\n",
       "    </tr>\n",
       "  </tbody>\n",
       "</table>\n",
       "<p>6164 rows × 6 columns</p>\n",
       "</div>"
      ],
      "text/plain": [
       "         model  year  price  mileage fuelType   mpg\n",
       "0       Fiesta  2017  12000    15944   Petrol  57.7\n",
       "3       Fiesta  2019  17500    10460   Petrol  40.3\n",
       "4       Fiesta  2019  16500     1482   Petrol  48.7\n",
       "5       Fiesta  2015  10500    35432   Petrol  47.9\n",
       "7       Fiesta  2017   9000    13054   Petrol  54.3\n",
       "...        ...   ...    ...      ...      ...   ...\n",
       "17945   Fiesta  2019  15999     2813   Petrol  58.9\n",
       "17946   Fiesta  2015   8999    24546   Petrol  65.7\n",
       "17952   Fiesta  2017   9899    16303   Petrol  57.7\n",
       "17955   Fiesta  2018  12500     7047   Petrol  48.7\n",
       "17960   Fiesta  2016   7999    31348   Petrol  54.3\n",
       "\n",
       "[6164 rows x 6 columns]"
      ]
     },
     "execution_count": 24,
     "metadata": {},
     "output_type": "execute_result"
    }
   ],
   "source": [
    "Pfi_df"
   ]
  },
  {
   "cell_type": "code",
   "execution_count": 25,
   "metadata": {},
   "outputs": [
    {
     "data": {
      "text/html": [
       "<style type=\"text/css\">\n",
       "#T_f4132_row0_col0, #T_f4132_row1_col1, #T_f4132_row2_col2, #T_f4132_row3_col3 {\n",
       "  background-color: #b40426;\n",
       "  color: #f1f1f1;\n",
       "}\n",
       "#T_f4132_row0_col1 {\n",
       "  background-color: #e26952;\n",
       "  color: #f1f1f1;\n",
       "}\n",
       "#T_f4132_row0_col2 {\n",
       "  background-color: #3f53c6;\n",
       "  color: #f1f1f1;\n",
       "}\n",
       "#T_f4132_row0_col3 {\n",
       "  background-color: #81a4fb;\n",
       "  color: #f1f1f1;\n",
       "}\n",
       "#T_f4132_row1_col0 {\n",
       "  background-color: #e36b54;\n",
       "  color: #f1f1f1;\n",
       "}\n",
       "#T_f4132_row1_col2, #T_f4132_row1_col3, #T_f4132_row2_col0, #T_f4132_row2_col1 {\n",
       "  background-color: #3b4cc0;\n",
       "  color: #f1f1f1;\n",
       "}\n",
       "#T_f4132_row2_col3 {\n",
       "  background-color: #6282ea;\n",
       "  color: #f1f1f1;\n",
       "}\n",
       "#T_f4132_row3_col0 {\n",
       "  background-color: #cfdaea;\n",
       "  color: #000000;\n",
       "}\n",
       "#T_f4132_row3_col1 {\n",
       "  background-color: #a2c1ff;\n",
       "  color: #000000;\n",
       "}\n",
       "#T_f4132_row3_col2 {\n",
       "  background-color: #bfd3f6;\n",
       "  color: #000000;\n",
       "}\n",
       "</style>\n",
       "<table id=\"T_f4132\">\n",
       "  <thead>\n",
       "    <tr>\n",
       "      <th class=\"blank level0\" >&nbsp;</th>\n",
       "      <th id=\"T_f4132_level0_col0\" class=\"col_heading level0 col0\" >year</th>\n",
       "      <th id=\"T_f4132_level0_col1\" class=\"col_heading level0 col1\" >price</th>\n",
       "      <th id=\"T_f4132_level0_col2\" class=\"col_heading level0 col2\" >mileage</th>\n",
       "      <th id=\"T_f4132_level0_col3\" class=\"col_heading level0 col3\" >mpg</th>\n",
       "    </tr>\n",
       "  </thead>\n",
       "  <tbody>\n",
       "    <tr>\n",
       "      <th id=\"T_f4132_level0_row0\" class=\"row_heading level0 row0\" >year</th>\n",
       "      <td id=\"T_f4132_row0_col0\" class=\"data row0 col0\" >1.000000</td>\n",
       "      <td id=\"T_f4132_row0_col1\" class=\"data row0 col1\" >0.757343</td>\n",
       "      <td id=\"T_f4132_row0_col2\" class=\"data row0 col2\" >-0.665181</td>\n",
       "      <td id=\"T_f4132_row0_col3\" class=\"data row0 col3\" >0.084535</td>\n",
       "    </tr>\n",
       "    <tr>\n",
       "      <th id=\"T_f4132_level0_row1\" class=\"row_heading level0 row1\" >price</th>\n",
       "      <td id=\"T_f4132_row1_col0\" class=\"data row1 col0\" >0.757343</td>\n",
       "      <td id=\"T_f4132_row1_col1\" class=\"data row1 col1\" >1.000000</td>\n",
       "      <td id=\"T_f4132_row1_col2\" class=\"data row1 col2\" >-0.693577</td>\n",
       "      <td id=\"T_f4132_row1_col3\" class=\"data row1 col3\" >-0.170276</td>\n",
       "    </tr>\n",
       "    <tr>\n",
       "      <th id=\"T_f4132_level0_row2\" class=\"row_heading level0 row2\" >mileage</th>\n",
       "      <td id=\"T_f4132_row2_col0\" class=\"data row2 col0\" >-0.665181</td>\n",
       "      <td id=\"T_f4132_row2_col1\" class=\"data row2 col1\" >-0.693577</td>\n",
       "      <td id=\"T_f4132_row2_col2\" class=\"data row2 col2\" >1.000000</td>\n",
       "      <td id=\"T_f4132_row2_col3\" class=\"data row2 col3\" >-0.022207</td>\n",
       "    </tr>\n",
       "    <tr>\n",
       "      <th id=\"T_f4132_level0_row3\" class=\"row_heading level0 row3\" >mpg</th>\n",
       "      <td id=\"T_f4132_row3_col0\" class=\"data row3 col0\" >0.084535</td>\n",
       "      <td id=\"T_f4132_row3_col1\" class=\"data row3 col1\" >-0.170276</td>\n",
       "      <td id=\"T_f4132_row3_col2\" class=\"data row3 col2\" >-0.022207</td>\n",
       "      <td id=\"T_f4132_row3_col3\" class=\"data row3 col3\" >1.000000</td>\n",
       "    </tr>\n",
       "  </tbody>\n",
       "</table>\n"
      ],
      "text/plain": [
       "<pandas.io.formats.style.Styler at 0x1c50c4bbcd0>"
      ]
     },
     "execution_count": 25,
     "metadata": {},
     "output_type": "execute_result"
    }
   ],
   "source": [
    "corr = Pfi_df.drop(columns=['model','fuelType']).corr()\n",
    "corr.style.background_gradient(cmap='coolwarm')"
   ]
  },
  {
   "cell_type": "code",
   "execution_count": 26,
   "metadata": {},
   "outputs": [
    {
     "data": {
      "text/html": [
       "<style type=\"text/css\">\n",
       "#T_0829f_row0_col0, #T_0829f_row1_col1, #T_0829f_row2_col2, #T_0829f_row3_col3 {\n",
       "  background-color: #b40426;\n",
       "  color: #f1f1f1;\n",
       "}\n",
       "#T_0829f_row0_col1 {\n",
       "  background-color: #e67259;\n",
       "  color: #f1f1f1;\n",
       "}\n",
       "#T_0829f_row0_col2, #T_0829f_row1_col3, #T_0829f_row2_col0, #T_0829f_row2_col1 {\n",
       "  background-color: #3b4cc0;\n",
       "  color: #f1f1f1;\n",
       "}\n",
       "#T_0829f_row0_col3 {\n",
       "  background-color: #cbd8ee;\n",
       "  color: #000000;\n",
       "}\n",
       "#T_0829f_row1_col0 {\n",
       "  background-color: #e36c55;\n",
       "  color: #f1f1f1;\n",
       "}\n",
       "#T_0829f_row1_col2 {\n",
       "  background-color: #4f69d9;\n",
       "  color: #f1f1f1;\n",
       "}\n",
       "#T_0829f_row2_col3 {\n",
       "  background-color: #5875e1;\n",
       "  color: #f1f1f1;\n",
       "}\n",
       "#T_0829f_row3_col0 {\n",
       "  background-color: #f1ccb8;\n",
       "  color: #000000;\n",
       "}\n",
       "#T_0829f_row3_col1 {\n",
       "  background-color: #86a9fc;\n",
       "  color: #f1f1f1;\n",
       "}\n",
       "#T_0829f_row3_col2 {\n",
       "  background-color: #b2ccfb;\n",
       "  color: #000000;\n",
       "}\n",
       "</style>\n",
       "<table id=\"T_0829f\">\n",
       "  <thead>\n",
       "    <tr>\n",
       "      <th class=\"blank level0\" >&nbsp;</th>\n",
       "      <th id=\"T_0829f_level0_col0\" class=\"col_heading level0 col0\" >year</th>\n",
       "      <th id=\"T_0829f_level0_col1\" class=\"col_heading level0 col1\" >price</th>\n",
       "      <th id=\"T_0829f_level0_col2\" class=\"col_heading level0 col2\" >mileage</th>\n",
       "      <th id=\"T_0829f_level0_col3\" class=\"col_heading level0 col3\" >mpg</th>\n",
       "    </tr>\n",
       "  </thead>\n",
       "  <tbody>\n",
       "    <tr>\n",
       "      <th id=\"T_0829f_level0_row0\" class=\"row_heading level0 row0\" >year</th>\n",
       "      <td id=\"T_0829f_row0_col0\" class=\"data row0 col0\" >1.000000</td>\n",
       "      <td id=\"T_0829f_row0_col1\" class=\"data row0 col1\" >0.726537</td>\n",
       "      <td id=\"T_0829f_row0_col2\" class=\"data row0 col2\" >-0.818401</td>\n",
       "      <td id=\"T_0829f_row0_col3\" class=\"data row0 col3\" >0.267442</td>\n",
       "    </tr>\n",
       "    <tr>\n",
       "      <th id=\"T_0829f_level0_row1\" class=\"row_heading level0 row1\" >price</th>\n",
       "      <td id=\"T_0829f_row1_col0\" class=\"data row1 col0\" >0.726537</td>\n",
       "      <td id=\"T_0829f_row1_col1\" class=\"data row1 col1\" >1.000000</td>\n",
       "      <td id=\"T_0829f_row1_col2\" class=\"data row1 col2\" >-0.691882</td>\n",
       "      <td id=\"T_0829f_row1_col3\" class=\"data row1 col3\" >-0.296356</td>\n",
       "    </tr>\n",
       "    <tr>\n",
       "      <th id=\"T_0829f_level0_row2\" class=\"row_heading level0 row2\" >mileage</th>\n",
       "      <td id=\"T_0829f_row2_col0\" class=\"data row2 col0\" >-0.818401</td>\n",
       "      <td id=\"T_0829f_row2_col1\" class=\"data row2 col1\" >-0.691882</td>\n",
       "      <td id=\"T_0829f_row2_col2\" class=\"data row2 col2\" >1.000000</td>\n",
       "      <td id=\"T_0829f_row2_col3\" class=\"data row2 col3\" >-0.171343</td>\n",
       "    </tr>\n",
       "    <tr>\n",
       "      <th id=\"T_0829f_level0_row3\" class=\"row_heading level0 row3\" >mpg</th>\n",
       "      <td id=\"T_0829f_row3_col0\" class=\"data row3 col0\" >0.267442</td>\n",
       "      <td id=\"T_0829f_row3_col1\" class=\"data row3 col1\" >-0.296356</td>\n",
       "      <td id=\"T_0829f_row3_col2\" class=\"data row3 col2\" >-0.171343</td>\n",
       "      <td id=\"T_0829f_row3_col3\" class=\"data row3 col3\" >1.000000</td>\n",
       "    </tr>\n",
       "  </tbody>\n",
       "</table>\n"
      ],
      "text/plain": [
       "<pandas.io.formats.style.Styler at 0x1c5107fc190>"
      ]
     },
     "execution_count": 26,
     "metadata": {},
     "output_type": "execute_result"
    }
   ],
   "source": [
    "corr = Pfo_df.drop(columns=['model','fuelType']).corr()\n",
    "corr.style.background_gradient(cmap='coolwarm')"
   ]
  },
  {
   "cell_type": "code",
   "execution_count": 27,
   "metadata": {},
   "outputs": [
    {
     "data": {
      "text/html": [
       "<style type=\"text/css\">\n",
       "#T_a7909_row0_col0, #T_a7909_row1_col1, #T_a7909_row2_col2, #T_a7909_row3_col3 {\n",
       "  background-color: #b40426;\n",
       "  color: #f1f1f1;\n",
       "}\n",
       "#T_a7909_row0_col1 {\n",
       "  background-color: #d1493f;\n",
       "  color: #f1f1f1;\n",
       "}\n",
       "#T_a7909_row0_col2 {\n",
       "  background-color: #5572df;\n",
       "  color: #f1f1f1;\n",
       "}\n",
       "#T_a7909_row0_col3 {\n",
       "  background-color: #7699f6;\n",
       "  color: #f1f1f1;\n",
       "}\n",
       "#T_a7909_row1_col0 {\n",
       "  background-color: #d44e41;\n",
       "  color: #f1f1f1;\n",
       "}\n",
       "#T_a7909_row1_col2, #T_a7909_row2_col0, #T_a7909_row2_col1, #T_a7909_row2_col3 {\n",
       "  background-color: #3b4cc0;\n",
       "  color: #f1f1f1;\n",
       "}\n",
       "#T_a7909_row1_col3 {\n",
       "  background-color: #516ddb;\n",
       "  color: #f1f1f1;\n",
       "}\n",
       "#T_a7909_row3_col0 {\n",
       "  background-color: #d4dbe6;\n",
       "  color: #000000;\n",
       "}\n",
       "#T_a7909_row3_col1 {\n",
       "  background-color: #cedaeb;\n",
       "  color: #000000;\n",
       "}\n",
       "#T_a7909_row3_col2 {\n",
       "  background-color: #c1d4f4;\n",
       "  color: #000000;\n",
       "}\n",
       "</style>\n",
       "<table id=\"T_a7909\">\n",
       "  <thead>\n",
       "    <tr>\n",
       "      <th class=\"blank level0\" >&nbsp;</th>\n",
       "      <th id=\"T_a7909_level0_col0\" class=\"col_heading level0 col0\" >year</th>\n",
       "      <th id=\"T_a7909_level0_col1\" class=\"col_heading level0 col1\" >price</th>\n",
       "      <th id=\"T_a7909_level0_col2\" class=\"col_heading level0 col2\" >mileage</th>\n",
       "      <th id=\"T_a7909_level0_col3\" class=\"col_heading level0 col3\" >mpg</th>\n",
       "    </tr>\n",
       "  </thead>\n",
       "  <tbody>\n",
       "    <tr>\n",
       "      <th id=\"T_a7909_level0_row0\" class=\"row_heading level0 row0\" >year</th>\n",
       "      <td id=\"T_a7909_row0_col0\" class=\"data row0 col0\" >1.000000</td>\n",
       "      <td id=\"T_a7909_row0_col1\" class=\"data row0 col1\" >0.851712</td>\n",
       "      <td id=\"T_a7909_row0_col2\" class=\"data row0 col2\" >-0.639757</td>\n",
       "      <td id=\"T_a7909_row0_col3\" class=\"data row0 col3\" >0.124462</td>\n",
       "    </tr>\n",
       "    <tr>\n",
       "      <th id=\"T_a7909_level0_row1\" class=\"row_heading level0 row1\" >price</th>\n",
       "      <td id=\"T_a7909_row1_col0\" class=\"data row1 col0\" >0.851712</td>\n",
       "      <td id=\"T_a7909_row1_col1\" class=\"data row1 col1\" >1.000000</td>\n",
       "      <td id=\"T_a7909_row1_col2\" class=\"data row1 col2\" >-0.796609</td>\n",
       "      <td id=\"T_a7909_row1_col3\" class=\"data row1 col3\" >0.008927</td>\n",
       "    </tr>\n",
       "    <tr>\n",
       "      <th id=\"T_a7909_level0_row2\" class=\"row_heading level0 row2\" >mileage</th>\n",
       "      <td id=\"T_a7909_row2_col0\" class=\"data row2 col0\" >-0.639757</td>\n",
       "      <td id=\"T_a7909_row2_col1\" class=\"data row2 col1\" >-0.796609</td>\n",
       "      <td id=\"T_a7909_row2_col2\" class=\"data row2 col2\" >1.000000</td>\n",
       "      <td id=\"T_a7909_row2_col3\" class=\"data row2 col3\" >-0.073681</td>\n",
       "    </tr>\n",
       "    <tr>\n",
       "      <th id=\"T_a7909_level0_row3\" class=\"row_heading level0 row3\" >mpg</th>\n",
       "      <td id=\"T_a7909_row3_col0\" class=\"data row3 col0\" >0.124462</td>\n",
       "      <td id=\"T_a7909_row3_col1\" class=\"data row3 col1\" >0.008927</td>\n",
       "      <td id=\"T_a7909_row3_col2\" class=\"data row3 col2\" >-0.073681</td>\n",
       "      <td id=\"T_a7909_row3_col3\" class=\"data row3 col3\" >1.000000</td>\n",
       "    </tr>\n",
       "  </tbody>\n",
       "</table>\n"
      ],
      "text/plain": [
       "<pandas.io.formats.style.Styler at 0x1c50c39f6d0>"
      ]
     },
     "execution_count": 27,
     "metadata": {},
     "output_type": "execute_result"
    }
   ],
   "source": [
    "corr = Dfi_df.drop(columns=['model','fuelType']).corr()\n",
    "corr.style.background_gradient(cmap='coolwarm')"
   ]
  },
  {
   "attachments": {},
   "cell_type": "markdown",
   "metadata": {},
   "source": [
    "이를 통해 price와 year만 관계있는 것을 알 수 있음."
   ]
  },
  {
   "cell_type": "code",
   "execution_count": 28,
   "metadata": {},
   "outputs": [],
   "source": [
    "from sklearn.model_selection import train_test_split\n",
    "#Petrol fiesta train, test 분할\n",
    "Xfp_train, Xfp_test, yfp_train, yfp_test = train_test_split(\n",
    "    Pfi_df.drop(['price','model','fuelType'],axis=1), Pfi_df['price'].to_numpy(), test_size=0.2, random_state=1)\n",
    "#Diesel fiesta train, test 분할\n",
    "Xfd_train, Xfd_test, yfd_train, yfd_test = train_test_split(\n",
    "    Dfi_df.drop(['price','model','fuelType'],axis=1), Dfi_df['price'].to_numpy(), test_size=0.2, random_state=1)"
   ]
  },
  {
   "cell_type": "code",
   "execution_count": 29,
   "metadata": {},
   "outputs": [
    {
     "data": {
      "text/plain": [
       "array([  9.0986027 ,  -0.13209053, -88.50236516])"
      ]
     },
     "execution_count": 29,
     "metadata": {},
     "output_type": "execute_result"
    }
   ],
   "source": [
    "#행렬 계산으로 fiesta petrol W값 구하기\n",
    "x = Xfp_train.to_numpy()\n",
    "xtx = np.matmul(x.T , x)\n",
    "xtx_inv = np.linalg.inv(xtx)\n",
    "W = np.matmul(np.matmul(xtx_inv , x.T), yfp_train)\n",
    "W"
   ]
  },
  {
   "cell_type": "code",
   "execution_count": 30,
   "metadata": {},
   "outputs": [
    {
     "data": {
      "text/plain": [
       "array([  6.5061772 ,  -0.09396562, -16.00697174])"
      ]
     },
     "execution_count": 30,
     "metadata": {},
     "output_type": "execute_result"
    }
   ],
   "source": [
    "#행렬 계산으로 fiesta diesel W값 구하기\n",
    "x = Xfd_train.to_numpy()\n",
    "xtx = np.matmul(x.T , x)\n",
    "xtx_inv = np.linalg.inv(xtx)\n",
    "W = np.matmul(np.matmul(xtx_inv , x.T), yfd_train)\n",
    "W"
   ]
  },
  {
   "cell_type": "code",
   "execution_count": 31,
   "metadata": {},
   "outputs": [
    {
     "name": "stdout",
     "output_type": "stream",
     "text": [
      "[10273.92707201 11403.49499236 11677.54924994 ... 11126.1934594\n",
      " 11485.30294498  9161.25766536]\n",
      "[11434.49464491 11328.70152181 10831.33110506 ... 11159.22919411\n",
      " 11544.270782   10571.06889894]\n"
     ]
    }
   ],
   "source": [
    "predicted_yfp_train = np.matmul(Xfp_train.to_numpy(), W)\n",
    "predicted_yfp_test = np.matmul(Xfp_test.to_numpy(), W)\n",
    "print(predicted_yfp_train)\n",
    "print(predicted_yfp_test)"
   ]
  },
  {
   "cell_type": "code",
   "execution_count": 32,
   "metadata": {},
   "outputs": [
    {
     "name": "stdout",
     "output_type": "stream",
     "text": [
      "[ 8068.51787748 11387.68787484  6648.03165856 10350.81816589\n",
      "  8327.4803768   5175.40379408  9681.21921715  9508.51577486\n",
      "  7969.33231549  3396.00197709  4187.55637217 10578.61336835\n",
      "  6847.62899045 10296.15272719  4544.68403098  5828.55878966\n",
      "  7240.41471708  8028.1059248   9797.67313982  7731.92503705\n",
      "  5544.70916934  9600.97255164  7257.33641721 10708.34017357\n",
      "  8115.03085732  8616.94210265  6958.6812065   3486.63824532\n",
      "  5258.82271122  6611.60470529  6652.52072508  7394.4322507\n",
      "  8931.58405424 10595.59859511 10828.40287382 10749.89013628\n",
      "  5810.02374696  9121.74791095  8103.06793651  9567.31031147\n",
      "  6247.48110687  7577.96425892 10909.18440481  8827.93997999\n",
      "  6363.8433563   9482.36539476  8839.78341436  8640.67451222\n",
      "  8077.8838848   8243.94367766  7537.48762821   599.746865\n",
      "  5107.70284779  7934.38122891  8754.53028432  9657.57040663\n",
      " 10596.7262121   9263.35536067  9315.53556505 10025.81744686\n",
      "  9175.51879291  7359.91516402  6817.50053008  7147.67065426\n",
      " 11475.32724013  6338.27588939 10733.09284076  8721.45565423\n",
      "  6153.37410717  8969.56997942 10897.97112063  9040.30353842\n",
      "  9174.2746902   7471.5237659   7147.10936067  5779.31135447\n",
      "  9760.06172841  2597.07921694  8039.92304268  5163.04793232\n",
      " 11298.29601993  7627.6946194   9807.34359369 10970.83123797\n",
      "  6347.76641659  9420.48715336  9058.06177314  7973.08967345\n",
      "  7946.27497063  9235.63423733  9742.0374907   8288.04525715\n",
      "  7457.55459482  9759.70302647  6474.66636404 10204.73218756\n",
      " 10636.87205016 10911.06371713 10400.53136585  8360.0400794\n",
      "  7340.18365137 10474.27182456  9945.08002596  8979.22588814\n",
      " 10271.56429012  6222.75764524 11546.24873037  9925.11140893\n",
      "  9521.19574381 10927.76704703  5403.44889119  5220.48347329\n",
      "  9889.28161069 10896.1999893   8494.41629921  5416.04769157\n",
      "  2879.24402323  9650.77971721  8850.0987048   8715.44185482\n",
      "  7938.30523507  9908.17408865  8294.6625605   9936.67198674\n",
      "  7696.87712903  5691.85191585  9739.07945719  9738.27886606\n",
      "  5522.46641283  6366.13481109  8476.98756086  5974.51783002\n",
      " 10259.31820579  8265.32273865  7012.06361021  8305.42889608\n",
      "  6625.22971959  7595.67616079 10266.64752383 10581.95642029\n",
      "  5422.55386877 10631.33608339  9577.40973178  5508.56329807\n",
      "  9935.91911041  9023.46526599  8676.7584601   8647.05616953\n",
      " 10857.83666128  5775.35043472  9021.29866764  9753.10288365\n",
      " 10120.98365878  9067.81164747 11248.40027792  9712.22784077\n",
      "  9322.38831711 10050.59802334 10808.15420728  9575.49070923\n",
      "  6996.4574287  10483.87347789  7453.48236767  6548.1553649\n",
      "  7329.42900145  9188.37492176  6102.02917069 11090.89674528\n",
      " 10158.32898517  9685.80095302  9128.39691997 11299.71089335\n",
      "  8821.97254667  4099.3095617   7095.90348923 10532.083228\n",
      "  9065.49421275 11215.7056328   7298.17975442 10293.40517463\n",
      "  8146.12923837  9474.30690151 10976.30640878 11629.36743873\n",
      "  9370.75679288 10768.09949817  9268.33427163  9215.4621842\n",
      "  6955.30298907  5647.36926597  8657.48761957  9182.0024204\n",
      " 10244.10378059 10890.46808674  9076.57426613  8877.92968761\n",
      " 10944.51547636 10892.86494193  8430.16097851  3266.95268427\n",
      "  4872.43609897  7309.52704423 10367.54404551  9306.10971587\n",
      "  7474.79380913  6936.29561819  8074.313221    9461.7380587\n",
      "  7254.91047173  7765.1880871  10154.24748678  5268.59513527\n",
      "  6047.99355241  9204.34495393 11269.57309575  8420.15302371\n",
      "  7745.57386773  8012.91393403  8875.83989435  9235.63423733\n",
      " 10378.44944613  7154.34471309  5006.92217824  9675.5812506\n",
      "  8109.17443487  7413.12351896  9082.04682155  9534.72679249\n",
      " 11153.03318243  7759.09546392  5525.00728084  8259.44800427\n",
      "  8009.85816813  8496.53125755 10179.10327555  7631.45324403\n",
      "  4711.11968631  4422.52873042 10435.22183861 10209.09546752\n",
      " 10413.21260147  6698.65657578  7719.53073173  7260.77325351\n",
      " 10593.71928279  9367.39784709  9527.1923827   9950.27329992\n",
      "  9381.07046091  8131.82014828  9779.6250037  10595.62914938\n",
      " 10244.35512317  8859.51242691  3774.54057704 10845.0826943\n",
      "  8685.95793448  4776.21404169  7849.9471172   6960.54001374\n",
      " 11602.30534138  9382.85583721  5366.52985666  7508.14780636\n",
      "  6771.91004588  7293.79507615  8880.67850685  8383.1781706\n",
      "  6933.14965345  9778.84946239  4725.1907123   9329.34050601\n",
      "  3921.08563468  9268.14760708  8893.3400486   9066.51867856\n",
      "  8742.71443311  8803.95746492  8442.30509266  8895.94856574\n",
      "  5313.37575711  8543.74824751  9353.18522272  7710.94942169\n",
      "  5258.93718192  8709.80265119  8728.19736218 11260.08256856\n",
      "  5835.98207331  8538.41316432 10140.92152986  9141.76258712\n",
      "  3148.27411148 11132.47726227  8803.11589689  6984.93009695\n",
      "  9801.17356872  6799.85881069 11072.38012978  9124.57519458\n",
      "  5235.78111534  7477.32711398  6827.8405442   8636.88533332\n",
      "  8972.88921497 10036.33779945  6698.65657578  7665.66052457\n",
      "  5852.80065186 10428.60453527  3423.66478175  7772.71527028\n",
      "  9229.69724301 11207.48271775]\n",
      "[ 5862.08196479  9831.56956205  5574.52875318 10389.79392888\n",
      "  9876.76163407  9240.12206678  7614.57113886  6538.80230993\n",
      "  8564.06198105  8149.95551213   971.22332778  9232.6101771\n",
      "  9992.37104721  4000.47083108 10319.62697062  6600.90978561\n",
      " 10297.46824582  8038.72403938  9779.41325608  1087.1231866\n",
      "  9504.39844829  9980.59363956 11335.27595527  9584.85683181\n",
      " 10297.09238335 10717.35806563  9403.29144566  1613.8321061\n",
      "  8019.34869533  7593.05301283  5752.14092761  8773.13674293\n",
      "  8809.99381404  6480.56777064  4957.09911882  6221.88043028\n",
      " 10010.45215568  8571.10940224  8250.45785942  5595.27260457\n",
      "  6121.33186177  6128.59889026 10303.43952794  9807.88483768\n",
      " 10408.12003102  6791.87426305 10491.69517372  7596.2161381\n",
      " 11161.57604891  9172.11351063  7786.49777681  8060.33486435\n",
      " 10547.30565776  8700.312124    3032.71895373  9088.74881928\n",
      "  5488.08038663  9999.40931243 10225.02075602 10196.92880366\n",
      " 10560.00817642 10616.11480503  9040.11434051 10155.34716488\n",
      "  7689.95411245  9918.65313821  7598.61953388  7824.98270239\n",
      " 10031.99283141 10678.48165745  8566.6930183   5665.81034305\n",
      "  6812.87116509  7504.79139028  8204.29145446  9980.83582617\n",
      "  7254.65112459  8284.32634276  5144.14368301]\n"
     ]
    }
   ],
   "source": [
    "predicted_yfd_train = np.matmul(Xfd_train.to_numpy(), W)\n",
    "predicted_yfd_test = np.matmul(Xfd_test.to_numpy(), W)\n",
    "print(predicted_yfd_train)\n",
    "print(predicted_yfd_test)"
   ]
  },
  {
   "cell_type": "code",
   "execution_count": 33,
   "metadata": {},
   "outputs": [
    {
     "name": "stdout",
     "output_type": "stream",
     "text": [
      "4571875.091477589\n",
      "4092387.124893865\n"
     ]
    }
   ],
   "source": [
    "#petrol train 데이터의 잔차, MSE\n",
    "residuals_fp_train = (yfp_train- predicted_yfp_train)\n",
    "MSE_fp_train = (residuals_fp_train*residuals_fp_train).mean()\n",
    "print(MSE_fp_train)\n",
    "#petrol test 데이터의 잔차, MSE\n",
    "residuals_fp_test = (yfp_test- predicted_yfp_test)\n",
    "MSE_fp_test = (residuals_fp_test*residuals_fp_test).mean()\n",
    "print(MSE_fp_test)"
   ]
  },
  {
   "cell_type": "code",
   "execution_count": 34,
   "metadata": {},
   "outputs": [
    {
     "name": "stdout",
     "output_type": "stream",
     "text": [
      "2288110.093396083\n",
      "1697294.8703603342\n"
     ]
    }
   ],
   "source": [
    "#diesel train 데이터의 잔차, MSE\n",
    "residuals_fd_train = (yfd_train- predicted_yfd_train)\n",
    "MSE_fd_train = (residuals_fd_train*residuals_fd_train).mean()\n",
    "print(MSE_fd_train)\n",
    "\n",
    "#petrol test 데이터의 잔차, MSE\n",
    "residuals_fd_test = (yfd_test- predicted_yfd_test)\n",
    "MSE_fd_test = (residuals_fd_test*residuals_fd_test).mean()\n",
    "print(MSE_fd_test)"
   ]
  },
  {
   "cell_type": "code",
   "execution_count": 35,
   "metadata": {},
   "outputs": [],
   "source": [
    "from sklearn.linear_model import LinearRegression\n",
    "from sklearn.metrics import r2_score\n",
    "from sklearn.metrics import mean_squared_error"
   ]
  },
  {
   "cell_type": "code",
   "execution_count": 36,
   "metadata": {},
   "outputs": [
    {
     "data": {
      "text/html": [
       "<style>#sk-container-id-1 {color: black;background-color: white;}#sk-container-id-1 pre{padding: 0;}#sk-container-id-1 div.sk-toggleable {background-color: white;}#sk-container-id-1 label.sk-toggleable__label {cursor: pointer;display: block;width: 100%;margin-bottom: 0;padding: 0.3em;box-sizing: border-box;text-align: center;}#sk-container-id-1 label.sk-toggleable__label-arrow:before {content: \"▸\";float: left;margin-right: 0.25em;color: #696969;}#sk-container-id-1 label.sk-toggleable__label-arrow:hover:before {color: black;}#sk-container-id-1 div.sk-estimator:hover label.sk-toggleable__label-arrow:before {color: black;}#sk-container-id-1 div.sk-toggleable__content {max-height: 0;max-width: 0;overflow: hidden;text-align: left;background-color: #f0f8ff;}#sk-container-id-1 div.sk-toggleable__content pre {margin: 0.2em;color: black;border-radius: 0.25em;background-color: #f0f8ff;}#sk-container-id-1 input.sk-toggleable__control:checked~div.sk-toggleable__content {max-height: 200px;max-width: 100%;overflow: auto;}#sk-container-id-1 input.sk-toggleable__control:checked~label.sk-toggleable__label-arrow:before {content: \"▾\";}#sk-container-id-1 div.sk-estimator input.sk-toggleable__control:checked~label.sk-toggleable__label {background-color: #d4ebff;}#sk-container-id-1 div.sk-label input.sk-toggleable__control:checked~label.sk-toggleable__label {background-color: #d4ebff;}#sk-container-id-1 input.sk-hidden--visually {border: 0;clip: rect(1px 1px 1px 1px);clip: rect(1px, 1px, 1px, 1px);height: 1px;margin: -1px;overflow: hidden;padding: 0;position: absolute;width: 1px;}#sk-container-id-1 div.sk-estimator {font-family: monospace;background-color: #f0f8ff;border: 1px dotted black;border-radius: 0.25em;box-sizing: border-box;margin-bottom: 0.5em;}#sk-container-id-1 div.sk-estimator:hover {background-color: #d4ebff;}#sk-container-id-1 div.sk-parallel-item::after {content: \"\";width: 100%;border-bottom: 1px solid gray;flex-grow: 1;}#sk-container-id-1 div.sk-label:hover label.sk-toggleable__label {background-color: #d4ebff;}#sk-container-id-1 div.sk-serial::before {content: \"\";position: absolute;border-left: 1px solid gray;box-sizing: border-box;top: 0;bottom: 0;left: 50%;z-index: 0;}#sk-container-id-1 div.sk-serial {display: flex;flex-direction: column;align-items: center;background-color: white;padding-right: 0.2em;padding-left: 0.2em;position: relative;}#sk-container-id-1 div.sk-item {position: relative;z-index: 1;}#sk-container-id-1 div.sk-parallel {display: flex;align-items: stretch;justify-content: center;background-color: white;position: relative;}#sk-container-id-1 div.sk-item::before, #sk-container-id-1 div.sk-parallel-item::before {content: \"\";position: absolute;border-left: 1px solid gray;box-sizing: border-box;top: 0;bottom: 0;left: 50%;z-index: -1;}#sk-container-id-1 div.sk-parallel-item {display: flex;flex-direction: column;z-index: 1;position: relative;background-color: white;}#sk-container-id-1 div.sk-parallel-item:first-child::after {align-self: flex-end;width: 50%;}#sk-container-id-1 div.sk-parallel-item:last-child::after {align-self: flex-start;width: 50%;}#sk-container-id-1 div.sk-parallel-item:only-child::after {width: 0;}#sk-container-id-1 div.sk-dashed-wrapped {border: 1px dashed gray;margin: 0 0.4em 0.5em 0.4em;box-sizing: border-box;padding-bottom: 0.4em;background-color: white;}#sk-container-id-1 div.sk-label label {font-family: monospace;font-weight: bold;display: inline-block;line-height: 1.2em;}#sk-container-id-1 div.sk-label-container {text-align: center;}#sk-container-id-1 div.sk-container {/* jupyter's `normalize.less` sets `[hidden] { display: none; }` but bootstrap.min.css set `[hidden] { display: none !important; }` so we also need the `!important` here to be able to override the default hidden behavior on the sphinx rendered scikit-learn.org. See: https://github.com/scikit-learn/scikit-learn/issues/21755 */display: inline-block !important;position: relative;}#sk-container-id-1 div.sk-text-repr-fallback {display: none;}</style><div id=\"sk-container-id-1\" class=\"sk-top-container\"><div class=\"sk-text-repr-fallback\"><pre>LinearRegression()</pre><b>In a Jupyter environment, please rerun this cell to show the HTML representation or trust the notebook. <br />On GitHub, the HTML representation is unable to render, please try loading this page with nbviewer.org.</b></div><div class=\"sk-container\" hidden><div class=\"sk-item\"><div class=\"sk-estimator sk-toggleable\"><input class=\"sk-toggleable__control sk-hidden--visually\" id=\"sk-estimator-id-1\" type=\"checkbox\" checked><label for=\"sk-estimator-id-1\" class=\"sk-toggleable__label sk-toggleable__label-arrow\">LinearRegression</label><div class=\"sk-toggleable__content\"><pre>LinearRegression()</pre></div></div></div></div></div>"
      ],
      "text/plain": [
       "LinearRegression()"
      ]
     },
     "execution_count": 36,
     "metadata": {},
     "output_type": "execute_result"
    }
   ],
   "source": [
    "LR_p = LinearRegression()\n",
    "LR_p.fit(Xfp_train, yfp_train)\n",
    "\n",
    "LR_d = LinearRegression()\n",
    "LR_d.fit(Xfd_train, yfd_train)"
   ]
  },
  {
   "cell_type": "code",
   "execution_count": 37,
   "metadata": {},
   "outputs": [
    {
     "data": {
      "text/plain": [
       "array([ 7.67440114e+02, -6.50344620e-02, -1.03414551e+02])"
      ]
     },
     "execution_count": 37,
     "metadata": {},
     "output_type": "execute_result"
    }
   ],
   "source": [
    "LR_p.coef_"
   ]
  },
  {
   "cell_type": "code",
   "execution_count": 38,
   "metadata": {},
   "outputs": [
    {
     "data": {
      "text/plain": [
       "array([ 6.66165896e+02, -4.96149828e-02, -2.85218644e+01])"
      ]
     },
     "execution_count": 38,
     "metadata": {},
     "output_type": "execute_result"
    }
   ],
   "source": [
    "LR_d.coef_"
   ]
  },
  {
   "cell_type": "code",
   "execution_count": 39,
   "metadata": {},
   "outputs": [
    {
     "data": {
      "text/plain": [
       "(0.5378985563312773, 0.5679512218897406)"
      ]
     },
     "execution_count": 39,
     "metadata": {},
     "output_type": "execute_result"
    }
   ],
   "source": [
    "r2_score(LR_p.predict(Xfp_train), yfp_train), r2_score(LR_p.predict(Xfp_test), yfp_test)"
   ]
  },
  {
   "cell_type": "code",
   "execution_count": 40,
   "metadata": {},
   "outputs": [
    {
     "data": {
      "text/plain": [
       "(0.8213684062272942, 0.8306074401414159)"
      ]
     },
     "execution_count": 40,
     "metadata": {},
     "output_type": "execute_result"
    }
   ],
   "source": [
    "r2_score(LR_d.predict(Xfd_train), yfd_train), r2_score(LR_d.predict(Xfd_test), yfd_test)"
   ]
  },
  {
   "attachments": {},
   "cell_type": "markdown",
   "metadata": {},
   "source": [
    "아까 상관관계로 제일 관계없는 mpg 제거 후 r2 score 구하기"
   ]
  },
  {
   "cell_type": "code",
   "execution_count": 41,
   "metadata": {},
   "outputs": [],
   "source": [
    "Pfi_df_wompg = Pfi_df.drop(['mpg', 'model', 'fuelType', 'price'], axis = 1)\n",
    "Dfi_df_wompg = Dfi_df.drop(['mpg', 'model', 'fuelType', 'price'], axis = 1)"
   ]
  },
  {
   "cell_type": "code",
   "execution_count": 42,
   "metadata": {},
   "outputs": [
    {
     "data": {
      "text/html": [
       "<div>\n",
       "<style scoped>\n",
       "    .dataframe tbody tr th:only-of-type {\n",
       "        vertical-align: middle;\n",
       "    }\n",
       "\n",
       "    .dataframe tbody tr th {\n",
       "        vertical-align: top;\n",
       "    }\n",
       "\n",
       "    .dataframe thead th {\n",
       "        text-align: right;\n",
       "    }\n",
       "</style>\n",
       "<table border=\"1\" class=\"dataframe\">\n",
       "  <thead>\n",
       "    <tr style=\"text-align: right;\">\n",
       "      <th></th>\n",
       "      <th>year</th>\n",
       "      <th>mileage</th>\n",
       "    </tr>\n",
       "  </thead>\n",
       "  <tbody>\n",
       "    <tr>\n",
       "      <th>0</th>\n",
       "      <td>2017</td>\n",
       "      <td>15944</td>\n",
       "    </tr>\n",
       "    <tr>\n",
       "      <th>3</th>\n",
       "      <td>2019</td>\n",
       "      <td>10460</td>\n",
       "    </tr>\n",
       "    <tr>\n",
       "      <th>4</th>\n",
       "      <td>2019</td>\n",
       "      <td>1482</td>\n",
       "    </tr>\n",
       "    <tr>\n",
       "      <th>5</th>\n",
       "      <td>2015</td>\n",
       "      <td>35432</td>\n",
       "    </tr>\n",
       "    <tr>\n",
       "      <th>7</th>\n",
       "      <td>2017</td>\n",
       "      <td>13054</td>\n",
       "    </tr>\n",
       "    <tr>\n",
       "      <th>...</th>\n",
       "      <td>...</td>\n",
       "      <td>...</td>\n",
       "    </tr>\n",
       "    <tr>\n",
       "      <th>17945</th>\n",
       "      <td>2019</td>\n",
       "      <td>2813</td>\n",
       "    </tr>\n",
       "    <tr>\n",
       "      <th>17946</th>\n",
       "      <td>2015</td>\n",
       "      <td>24546</td>\n",
       "    </tr>\n",
       "    <tr>\n",
       "      <th>17952</th>\n",
       "      <td>2017</td>\n",
       "      <td>16303</td>\n",
       "    </tr>\n",
       "    <tr>\n",
       "      <th>17955</th>\n",
       "      <td>2018</td>\n",
       "      <td>7047</td>\n",
       "    </tr>\n",
       "    <tr>\n",
       "      <th>17960</th>\n",
       "      <td>2016</td>\n",
       "      <td>31348</td>\n",
       "    </tr>\n",
       "  </tbody>\n",
       "</table>\n",
       "<p>6164 rows × 2 columns</p>\n",
       "</div>"
      ],
      "text/plain": [
       "       year  mileage\n",
       "0      2017    15944\n",
       "3      2019    10460\n",
       "4      2019     1482\n",
       "5      2015    35432\n",
       "7      2017    13054\n",
       "...     ...      ...\n",
       "17945  2019     2813\n",
       "17946  2015    24546\n",
       "17952  2017    16303\n",
       "17955  2018     7047\n",
       "17960  2016    31348\n",
       "\n",
       "[6164 rows x 2 columns]"
      ]
     },
     "execution_count": 42,
     "metadata": {},
     "output_type": "execute_result"
    }
   ],
   "source": [
    "Pfi_df_wompg"
   ]
  },
  {
   "cell_type": "code",
   "execution_count": 43,
   "metadata": {},
   "outputs": [],
   "source": [
    "from sklearn.model_selection import train_test_split\n",
    "Xfp_train_wompg, Xfp_test_wompg, yfp_train_wompg, yfp_test_wompg = train_test_split(Pfi_df_wompg, Pfi_df['price'].to_numpy(), test_size=0.2, random_state=1)\n",
    "Xfd_train_wompg, Xfd_test_wompg, yfd_train_wompg, yfd_test_wompg = train_test_split(Dfi_df_wompg, Dfi_df['price'].to_numpy(), test_size=0.2, random_state=1)"
   ]
  },
  {
   "cell_type": "code",
   "execution_count": 44,
   "metadata": {},
   "outputs": [
    {
     "data": {
      "text/html": [
       "<style>#sk-container-id-2 {color: black;background-color: white;}#sk-container-id-2 pre{padding: 0;}#sk-container-id-2 div.sk-toggleable {background-color: white;}#sk-container-id-2 label.sk-toggleable__label {cursor: pointer;display: block;width: 100%;margin-bottom: 0;padding: 0.3em;box-sizing: border-box;text-align: center;}#sk-container-id-2 label.sk-toggleable__label-arrow:before {content: \"▸\";float: left;margin-right: 0.25em;color: #696969;}#sk-container-id-2 label.sk-toggleable__label-arrow:hover:before {color: black;}#sk-container-id-2 div.sk-estimator:hover label.sk-toggleable__label-arrow:before {color: black;}#sk-container-id-2 div.sk-toggleable__content {max-height: 0;max-width: 0;overflow: hidden;text-align: left;background-color: #f0f8ff;}#sk-container-id-2 div.sk-toggleable__content pre {margin: 0.2em;color: black;border-radius: 0.25em;background-color: #f0f8ff;}#sk-container-id-2 input.sk-toggleable__control:checked~div.sk-toggleable__content {max-height: 200px;max-width: 100%;overflow: auto;}#sk-container-id-2 input.sk-toggleable__control:checked~label.sk-toggleable__label-arrow:before {content: \"▾\";}#sk-container-id-2 div.sk-estimator input.sk-toggleable__control:checked~label.sk-toggleable__label {background-color: #d4ebff;}#sk-container-id-2 div.sk-label input.sk-toggleable__control:checked~label.sk-toggleable__label {background-color: #d4ebff;}#sk-container-id-2 input.sk-hidden--visually {border: 0;clip: rect(1px 1px 1px 1px);clip: rect(1px, 1px, 1px, 1px);height: 1px;margin: -1px;overflow: hidden;padding: 0;position: absolute;width: 1px;}#sk-container-id-2 div.sk-estimator {font-family: monospace;background-color: #f0f8ff;border: 1px dotted black;border-radius: 0.25em;box-sizing: border-box;margin-bottom: 0.5em;}#sk-container-id-2 div.sk-estimator:hover {background-color: #d4ebff;}#sk-container-id-2 div.sk-parallel-item::after {content: \"\";width: 100%;border-bottom: 1px solid gray;flex-grow: 1;}#sk-container-id-2 div.sk-label:hover label.sk-toggleable__label {background-color: #d4ebff;}#sk-container-id-2 div.sk-serial::before {content: \"\";position: absolute;border-left: 1px solid gray;box-sizing: border-box;top: 0;bottom: 0;left: 50%;z-index: 0;}#sk-container-id-2 div.sk-serial {display: flex;flex-direction: column;align-items: center;background-color: white;padding-right: 0.2em;padding-left: 0.2em;position: relative;}#sk-container-id-2 div.sk-item {position: relative;z-index: 1;}#sk-container-id-2 div.sk-parallel {display: flex;align-items: stretch;justify-content: center;background-color: white;position: relative;}#sk-container-id-2 div.sk-item::before, #sk-container-id-2 div.sk-parallel-item::before {content: \"\";position: absolute;border-left: 1px solid gray;box-sizing: border-box;top: 0;bottom: 0;left: 50%;z-index: -1;}#sk-container-id-2 div.sk-parallel-item {display: flex;flex-direction: column;z-index: 1;position: relative;background-color: white;}#sk-container-id-2 div.sk-parallel-item:first-child::after {align-self: flex-end;width: 50%;}#sk-container-id-2 div.sk-parallel-item:last-child::after {align-self: flex-start;width: 50%;}#sk-container-id-2 div.sk-parallel-item:only-child::after {width: 0;}#sk-container-id-2 div.sk-dashed-wrapped {border: 1px dashed gray;margin: 0 0.4em 0.5em 0.4em;box-sizing: border-box;padding-bottom: 0.4em;background-color: white;}#sk-container-id-2 div.sk-label label {font-family: monospace;font-weight: bold;display: inline-block;line-height: 1.2em;}#sk-container-id-2 div.sk-label-container {text-align: center;}#sk-container-id-2 div.sk-container {/* jupyter's `normalize.less` sets `[hidden] { display: none; }` but bootstrap.min.css set `[hidden] { display: none !important; }` so we also need the `!important` here to be able to override the default hidden behavior on the sphinx rendered scikit-learn.org. See: https://github.com/scikit-learn/scikit-learn/issues/21755 */display: inline-block !important;position: relative;}#sk-container-id-2 div.sk-text-repr-fallback {display: none;}</style><div id=\"sk-container-id-2\" class=\"sk-top-container\"><div class=\"sk-text-repr-fallback\"><pre>LinearRegression()</pre><b>In a Jupyter environment, please rerun this cell to show the HTML representation or trust the notebook. <br />On GitHub, the HTML representation is unable to render, please try loading this page with nbviewer.org.</b></div><div class=\"sk-container\" hidden><div class=\"sk-item\"><div class=\"sk-estimator sk-toggleable\"><input class=\"sk-toggleable__control sk-hidden--visually\" id=\"sk-estimator-id-2\" type=\"checkbox\" checked><label for=\"sk-estimator-id-2\" class=\"sk-toggleable__label sk-toggleable__label-arrow\">LinearRegression</label><div class=\"sk-toggleable__content\"><pre>LinearRegression()</pre></div></div></div></div></div>"
      ],
      "text/plain": [
       "LinearRegression()"
      ]
     },
     "execution_count": 44,
     "metadata": {},
     "output_type": "execute_result"
    }
   ],
   "source": [
    "LR_p_wompg = LinearRegression()\n",
    "LR_d_wompg = LinearRegression()\n",
    "\n",
    "LR_p_wompg.fit(Xfp_train_wompg, yfp_train_wompg)\n",
    "LR_d_wompg.fit(Xfd_train_wompg, yfd_train_wompg)"
   ]
  },
  {
   "cell_type": "code",
   "execution_count": 45,
   "metadata": {},
   "outputs": [
    {
     "name": "stdout",
     "output_type": "stream",
     "text": [
      "[ 7.29459663e+02 -6.73567029e-02]\n",
      "[ 6.52093749e+02 -4.97729470e-02]\n"
     ]
    }
   ],
   "source": [
    "print(LR_p_wompg.coef_)\n",
    "print(LR_d_wompg.coef_)"
   ]
  },
  {
   "cell_type": "code",
   "execution_count": 46,
   "metadata": {},
   "outputs": [
    {
     "name": "stdout",
     "output_type": "stream",
     "text": [
      "0.41836228355460314 0.4667489165711767\n",
      "0.8079432278212034 0.8227222148801344\n"
     ]
    }
   ],
   "source": [
    "print(r2_score(LR_p_wompg.predict(Xfp_train_wompg), yfp_train_wompg), r2_score(LR_p_wompg.predict(Xfp_test_wompg), yfp_test_wompg))\n",
    "print(r2_score(LR_d_wompg.predict(Xfd_train_wompg), yfd_train_wompg), r2_score(LR_d_wompg.predict(Xfd_test_wompg), yfd_test_wompg))"
   ]
  },
  {
   "cell_type": "code",
   "execution_count": 47,
   "metadata": {},
   "outputs": [
    {
     "name": "stdout",
     "output_type": "stream",
     "text": [
      "모두 사용한 fiesta petrol의 train, test r2 score :  0.5378985563312773 0.5679512218897406\n",
      "mpg 제외한 fiesta petrol의 train, test r2 score :  0.41836228355460314 0.4667489165711767\n",
      "모두 사용한 fiesta diesel의 train, test r2 score :  0.8213684062272942 0.8306074401414159\n",
      "mpg 제외한 fiesta diesel의 train, test r2 score :  0.8079432278212034 0.8227222148801344\n"
     ]
    }
   ],
   "source": [
    "print('모두 사용한 fiesta petrol의 train, test r2 score : ',r2_score(LR_p.predict(Xfp_train), yfp_train), r2_score(LR_p.predict(Xfp_test), yfp_test))\n",
    "print('mpg 제외한 fiesta petrol의 train, test r2 score : ',r2_score(LR_p_wompg.predict(Xfp_train_wompg), yfp_train_wompg), r2_score(LR_p_wompg.predict(Xfp_test_wompg), yfp_test_wompg))\n",
    "print('모두 사용한 fiesta diesel의 train, test r2 score : ',r2_score(LR_d.predict(Xfd_train), yfd_train), r2_score(LR_d.predict(Xfd_test), yfd_test))\n",
    "print('mpg 제외한 fiesta diesel의 train, test r2 score : ',r2_score(LR_d_wompg.predict(Xfd_train_wompg), yfd_train_wompg), r2_score(LR_d_wompg.predict(Xfd_test_wompg), yfd_test_wompg))"
   ]
  },
  {
   "attachments": {},
   "cell_type": "markdown",
   "metadata": {},
   "source": [
    "■ 제일 관계없어 보이는 mpg를 제거했음에도 r2 score가 낮아진 것을 보아 변수가 많을수록 정확도가 높다는 것을 알 수 있다."
   ]
  },
  {
   "attachments": {},
   "cell_type": "markdown",
   "metadata": {},
   "source": [
    "2차, 3차 다항회귀 이용\n",
    "Petrolleum, diesel 모두 결과가 비슷하게 나오므로 Petrolleum만 선택"
   ]
  },
  {
   "cell_type": "code",
   "execution_count": 48,
   "metadata": {},
   "outputs": [],
   "source": [
    "from sklearn.preprocessing import PolynomialFeatures\n",
    "regr = LinearRegression()\n",
    "quadratic = PolynomialFeatures(degree=2)\n",
    "cubic = PolynomialFeatures(degree=3)"
   ]
  },
  {
   "cell_type": "code",
   "execution_count": 49,
   "metadata": {},
   "outputs": [
    {
     "name": "stdout",
     "output_type": "stream",
     "text": [
      "quad+linear coeff \n",
      ":  [ 0.00000000e+00  6.60077779e+04 -1.61571964e+01 -1.26072384e-01\n",
      "  1.10616384e-06 -9.70785414e+01]\n",
      "quad+linear constant \n",
      ":  -67387363.25279915\n"
     ]
    }
   ],
   "source": [
    "# 다항변수 생성\n",
    "Xfpt_year=Xfp_train[['year']].values; Xfpt_mileage=Xfp_train[['mileage']].values ; Xfpt_mpg=Xfp_train[['mpg']].values\n",
    "\n",
    "# 다항식의 형태로 전환한 year, mileage와 mpg 행렬들을 하나로 합칠 것.\n",
    "# 이후, linearRegression.fit으로 계산\n",
    "\n",
    "quadratic = PolynomialFeatures(degree=2)\n",
    "Xfpt_year_quad = quadratic.fit_transform(Xfpt_year)\n",
    "Xfpt_mileage_quad = quadratic.fit_transform(Xfpt_mileage)\n",
    "\n",
    "#다시 training set 한개의 행렬로 합치기(즉, Xfpt는 전체 training set이 된다.)\n",
    "Xfpt=np.concatenate((Xfpt_year_quad,Xfpt_mileage_quad,Xfpt_mpg),axis=1)#열로서 행렬 합치기.(즉, 7열이 된다.)\n",
    "#1열: 상수 , 2열 : year 1차 , 3열 : year 2차(제곱) , 4열 : 상수 , 5열 : mileage 1차, 6열 : mileage 2차, 7열 : mpg -> 실제 다항식에서는 상수항은 하나이니, 4열은 빼서 6열로 만드는 것이 맞다!\n",
    "Xfpt=np.delete(Xfpt,3,axis=1)#index=3인 열(상수) 제거\n",
    "#성능 test(다시 입력값 test set부터 위와 같은 방식으로 다항식으로 만들어야 됨)\n",
    "\n",
    "Linear = regr.fit(Xfpt, yfp_train)\n",
    "print(\"quad+linear coeff \\n: \", Linear.coef_)\n",
    "print(\"quad+linear constant \\n: \", Linear.intercept_)"
   ]
  },
  {
   "cell_type": "code",
   "execution_count": 50,
   "metadata": {},
   "outputs": [
    {
     "name": "stdout",
     "output_type": "stream",
     "text": [
      "fiesta-petrolleum r2_score quad \n",
      " 0.7167415983348651\n"
     ]
    }
   ],
   "source": [
    "Xfptest_year=Xfp_test[['year']].values; Xfptest_mileage=Xfp_test[['mileage']].values ; Xfptest_mpg=Xfp_test[['mpg']].values\n",
    "Xfptest_year_quad = quadratic.fit_transform(Xfptest_year)\n",
    "Xfptest_mileage_quad = quadratic.fit_transform(Xfptest_mileage)\n",
    "Xfptest=np.concatenate((Xfptest_year_quad,Xfptest_mileage_quad, Xfptest_mpg),axis=1)\n",
    "Xfptest=np.delete(Xfptest,3,axis=1)\n",
    "yfp_predicted=regr.predict(Xfptest)#test 입력값으로 예측한 값들\n",
    "fp_r2_with_mpg_quad=r2_score(yfp_test,yfp_predicted)\n",
    "print(\"fiesta-petrolleum r2_score quad \\n\", fp_r2_with_mpg_quad)"
   ]
  },
  {
   "cell_type": "code",
   "execution_count": 51,
   "metadata": {},
   "outputs": [
    {
     "name": "stdout",
     "output_type": "stream",
     "text": [
      "quad+linear coeff \n",
      ":  [ 0.00000000e+00  5.39438749e+04 -1.31780582e+01 -1.50845775e-01\n",
      "  1.41961209e-06]\n",
      "quad+linear constant \n",
      ":  -55179990.197851\n",
      "fiesta-petrolleum r2_score quad \n",
      " 0.7167415983348651\n",
      "fiesta-petrolleum r2_score quad without mpg \n",
      " 0.6881125783464596\n"
     ]
    }
   ],
   "source": [
    "#mpg 변수 사용하지 않았을 때\n",
    "Xfpt_year=Xfp_train[['year']].values; Xfpt_mileage=Xfp_train[['mileage']].values\n",
    "\n",
    "quadratic = PolynomialFeatures(degree=2)\n",
    "Xfpt_year_quad = quadratic.fit_transform(Xfpt_year)\n",
    "Xfpt_mileage_quad = quadratic.fit_transform(Xfpt_mileage)\n",
    "\n",
    "#다시 training set 한개의 행렬로 합치기(즉, Xfpt는 전체 training set이 된다.)\n",
    "Xfpt=np.concatenate((Xfpt_year_quad,Xfpt_mileage_quad),axis=1)#열로서 행렬 합치기.\n",
    "#1열: 상수 , 2열 : year 1차 , 3열 : year 2차(제곱) , 4열 : 상수 , 5열 : mileage 1차, 6열 : mileage 2차 -> 실제 다항식에서는 상수항은 하나이니, 4열은 빼서 6열로 만드는 것이 맞다!\n",
    "Xfpt=np.delete(Xfpt,3,axis=1)#index=3인 열(상수) 제거\n",
    "\n",
    "#training set으로 fit(lasso 최소가 되게 하는 coeff구하기)\n",
    "LR=regr.fit(Xfpt,yfp_train)\n",
    "print(\"quad+linear coeff \\n: \", LR.coef_)\n",
    "print(\"quad+linear constant \\n: \",LR.intercept_)\n",
    "\n",
    "#성능 test(다시 입력값 test set부터 위와 같은 방식으로 다항식으로 만들어야 됨)\n",
    "Xfptest_year=Xfp_test[['year']].values; Xfptest_mileage=Xfp_test[['mileage']].values \n",
    "Xfptest_year_quad = quadratic.fit_transform(Xfptest_year)\n",
    "Xfptest_mileage_quad = quadratic.fit_transform(Xfptest_mileage)\n",
    "Xfptest=np.concatenate((Xfptest_year_quad,Xfptest_mileage_quad),axis=1)\n",
    "Xfptest=np.delete(Xfptest,3,axis=1)\n",
    "yfp_predicted=regr.predict(Xfptest)#test 입력값으로 예측한 값들\n",
    "fp_r2_without_mpg_quad=r2_score(yfp_test,yfp_predicted)\n",
    "print(\"fiesta-petrolleum r2_score quad \\n\", fp_r2_with_mpg_quad)\n",
    "print(\"fiesta-petrolleum r2_score quad without mpg \\n\", fp_r2_without_mpg_quad)"
   ]
  },
  {
   "attachments": {},
   "cell_type": "markdown",
   "metadata": {},
   "source": [
    "상관계수를 구한 뒤 mpg를 제거했을 때 나온 결과와 같은 맥락으로, mpg를 제거한 다음 2차 다항회귀를 했을 경우에도 r2 score가 낮아지는 것을 보아 변수는 많을수록 정확도가 올라가는 것을 알 수 있다."
   ]
  },
  {
   "attachments": {},
   "cell_type": "markdown",
   "metadata": {},
   "source": [
    "3차 다항회귀"
   ]
  },
  {
   "cell_type": "code",
   "execution_count": 52,
   "metadata": {},
   "outputs": [
    {
     "name": "stdout",
     "output_type": "stream",
     "text": [
      "quad+linear coeff \n",
      ":  [ 0.00000000e+00  9.47722579e-03  1.63505893e+01 -5.33720061e-03\n",
      " -1.87190527e-01  3.02809681e-06 -1.49490923e-11 -9.19390012e+01]\n",
      "quad+linear constant \n",
      ":  -22704969.21413043\n",
      "fiesta-petrolleum r2_score cubic \n",
      " 0.7245598131616162\n"
     ]
    }
   ],
   "source": [
    "#변수별로 3차 다항회귀 응용\n",
    "#mpg 변수 사용했을 때\n",
    "Xfpt_year=Xfp_train[['year']].values; Xfpt_mileage=Xfp_train[['mileage']].values ; Xfpt_mpg=Xfp_train[['mpg']].values\n",
    "\n",
    "cubic = PolynomialFeatures(degree=3)\n",
    "Xfpt_year_cubic = cubic.fit_transform(Xfpt_year)\n",
    "Xfpt_mileage_cubic = cubic.fit_transform(Xfpt_mileage)\n",
    "\n",
    "#다시 training set 한개의 행렬로 합치기(즉, Xfpt는 전체 training set이 된다.)\n",
    "Xfpt=np.concatenate((Xfpt_year_cubic,Xfpt_mileage_cubic,Xfpt_mpg),axis=1)#열로서 행렬 합치기.(즉, 9열이 된다.)\n",
    "#1열: 상수 , 2열 : year 1차 , 3열 : year 2차(제곱) , 4열 : year 3차(세제곱) , 5열 : 상수, 6열 : mileage 1차, 7열 : mileage 2차, 8열 : mileage 3차 9열 : mpg -> 실제 다항식에서는 상수항은 하나이니, 5열은 빼서 8열로 만드는 것이 맞다!\n",
    "Xfpt=np.delete(Xfpt,4,axis=1)#index=3인 열(상수) 제거\n",
    "\n",
    "#training set으로 fit(lasso 최소가 되게 하는 coeff구하기)\n",
    "LR=regr.fit(Xfpt,yfp_train)\n",
    "print(\"quad+linear coeff \\n: \", LR.coef_)\n",
    "print(\"quad+linear constant \\n: \", LR.intercept_)\n",
    "\n",
    "#성능 test(다시 입력값 test set부터 위와 같은 방식으로 다항식으로 만들어야 됨)\n",
    "Xfptest_year=Xfp_test[['year']].values; Xfptest_mileage=Xfp_test[['mileage']].values ; Xfptest_mpg=Xfp_test[['mpg']].values\n",
    "Xfptest_year_cubic =  cubic.fit_transform(Xfptest_year)\n",
    "Xfptest_mileage_cubic = cubic.fit_transform(Xfptest_mileage)\n",
    "Xfptest=np.concatenate((Xfptest_year_cubic,Xfptest_mileage_cubic,Xfptest_mpg),axis=1)\n",
    "Xfptest=np.delete(Xfptest,4,axis=1)\n",
    "yfp_predicted=regr.predict(Xfptest)#test 입력값으로 예측한 값들\n",
    "\n",
    "#r2 score(결정계수)\n",
    "fp_r2_with_mpg_cubic=r2_score(yfp_test,yfp_predicted)\n",
    "print(\"fiesta-petrolleum r2_score cubic \\n\", fp_r2_with_mpg_cubic)"
   ]
  },
  {
   "cell_type": "code",
   "execution_count": 53,
   "metadata": {},
   "outputs": [
    {
     "name": "stdout",
     "output_type": "stream",
     "text": [
      "quad+linear coeff \n",
      ":  [ 0.00000000e+00  7.84574393e-03  1.35653945e+01 -4.42056756e-03\n",
      " -2.35942479e-01  4.12828543e-06 -2.12435868e-11]\n",
      "quad+linear constant \n",
      ":  -18900697.163772613\n",
      "fiesta-petrolleum r2_score cubic without mpg \n",
      " 0.700211875574278\n"
     ]
    }
   ],
   "source": [
    "#변수별로 3차 다항회귀 응용\n",
    "#mpg 변수 사용 안 했을 때\n",
    "Xfpt_year=Xfp_train[['year']].values; Xfpt_mileage=Xfp_train[['mileage']].values\n",
    "\n",
    "cubic = PolynomialFeatures(degree=3)\n",
    "Xfpt_year_cubic = cubic.fit_transform(Xfpt_year)\n",
    "Xfpt_mileage_cubic = cubic.fit_transform(Xfpt_mileage)\n",
    "\n",
    "#다시 training set 한개의 행렬로 합치기(즉, Xfpt는 전체 training set이 된다.)\n",
    "Xfpt=np.concatenate((Xfpt_year_cubic,Xfpt_mileage_cubic),axis=1)#열로서 행렬 합치기.(즉, 9열이 된다.)\n",
    "#1열: 상수 , 2열 : year 1차 , 3열 : year 2차(제곱) , 4열 : year 3차(세제곱) , 5열 : 상수, 6열 : mileage 1차, 7열 : mileage 2차, 8열 : mileage 3차 9열 : mpg -> 실제 다항식에서는 상수항은 하나이니, 5열은 빼서 8열로 만드는 것이 맞다!\n",
    "Xfpt=np.delete(Xfpt,4,axis=1)#index=3인 열(상수) 제거\n",
    "\n",
    "#training set으로 fit(lasso 최소가 되게 하는 coeff구하기)\n",
    "LR=LR.fit(Xfpt,yfp_train)\n",
    "print(\"quad+linear coeff \\n: \", LR.coef_)\n",
    "print(\"quad+linear constant \\n: \", LR.intercept_)\n",
    "\n",
    "#성능 test(다시 입력값 test set부터 위와 같은 방식으로 다항식으로 만들어야 됨)\n",
    "Xfptest_year=Xfp_test[['year']].values; Xfptest_mileage=Xfp_test[['mileage']].values \n",
    "Xfptest_year_cubic =  cubic.fit_transform(Xfptest_year)\n",
    "Xfptest_mileage_cubic = cubic.fit_transform(Xfptest_mileage)\n",
    "Xfptest=np.concatenate((Xfptest_year_cubic,Xfptest_mileage_cubic),axis=1)\n",
    "Xfptest=np.delete(Xfptest,4,axis=1)\n",
    "yfp_predicted=regr.predict(Xfptest)#test 입력값으로 예측한 값들\n",
    "\n",
    "#r2 score(결정계수)\n",
    "fp_r2_without_mpg_cubic=r2_score(yfp_test,yfp_predicted)\n",
    "print(\"fiesta-petrolleum r2_score cubic without mpg \\n\", fp_r2_without_mpg_cubic)"
   ]
  },
  {
   "cell_type": "code",
   "execution_count": 54,
   "metadata": {},
   "outputs": [
    {
     "name": "stdout",
     "output_type": "stream",
     "text": [
      "fiesta-petrolleum r2_score linear lasso with mpg \n",
      " 0.6909212236773143\n",
      "fiesta-petrolleum r2_score linear without mpg lasso\n",
      " 0.6487928347855996\n",
      "fiesta-petrolleum r2_score quad with mpg lasso \n",
      " 0.7218976217667401\n",
      "fiesta-petrolleum r2_score quad without mpg lasso \n",
      " 0.6939703282047018\n",
      "fiesta-petrolleum r2_score cubic with mpg lasso \n",
      " 0.7281765691030102\n",
      "fiesta-petrolleum r2_score cubic without mpg lasso \n",
      " 0.7041888327867796\n",
      "fiesta-petrolleum r2_score linearwith mpg \n",
      " 0.5679512218897406\n",
      "fiesta-petrolleum r2_score linear without mpg\n",
      " 0.4667489165711767\n",
      "fiesta-petrolleum r2_score quad with mpg\n",
      " 0.7167415983348651\n",
      "fiesta-petrolleum r2_score quad without mpg\n",
      " 0.6881125783464596\n",
      "fiesta-petrolleum r2_score cubic with mpg\n",
      " 0.7245598131616162\n",
      "fiesta-petrolleum r2_score cubic without mpg\n",
      " 0.700211875574278\n"
     ]
    }
   ],
   "source": [
    "# 선형, 2차, 3차 다항식 r2 score 비교\n",
    "print(\"fiesta-petrolleum r2_score linear lasso with mpg \\n\", fp_r2_with_mpg_linear_lasso)\n",
    "print(\"fiesta-petrolleum r2_score linear without mpg lasso\\n\", fp_r2_without_mpg_linear_lasso)\n",
    "print(\"fiesta-petrolleum r2_score quad with mpg lasso \\n\", fp_r2_with_mpg_quad_lasso)\n",
    "print(\"fiesta-petrolleum r2_score quad without mpg lasso \\n\", fp_r2_without_mpg_quad_lasso)\n",
    "print(\"fiesta-petrolleum r2_score cubic with mpg lasso \\n\", fp_r2_with_mpg_cubic_lasso)\n",
    "print(\"fiesta-petrolleum r2_score cubic without mpg lasso \\n\", fp_r2_without_mpg_cubic_lasso)\n",
    "print(\"fiesta-petrolleum r2_score linearwith mpg \\n\", r2_score(LR_p.predict(Xfp_test), yfp_test))\n",
    "print(\"fiesta-petrolleum r2_score linear without mpg\\n\", r2_score(LR_p_wompg.predict(Xfp_test_wompg), yfp_test_wompg))\n",
    "print(\"fiesta-petrolleum r2_score quad with mpg\\n\", fp_r2_with_mpg_quad)\n",
    "print(\"fiesta-petrolleum r2_score quad without mpg\\n\", fp_r2_without_mpg_quad)\n",
    "print(\"fiesta-petrolleum r2_score cubic with mpg\\n\", fp_r2_with_mpg_cubic)\n",
    "print(\"fiesta-petrolleum r2_score cubic without mpg\\n\", fp_r2_without_mpg_cubic)"
   ]
  },
  {
   "attachments": {},
   "cell_type": "markdown",
   "metadata": {},
   "source": [
    "결론\n",
    "<pre>\n",
    "1. 차수가 증가할수록 정확도가 상승한다.\n",
    "2. 상관계수가 가장 낮은 mpg를 제거하는 경우보다 제거하지 않은 경우 모두 정확도가 높은 것을 보아 \n",
    "상관계수는 낮더라도 변수가 많을수록 정확도가 높아지는 것을 알 수 있다.\n",
    "3. 일반적인 회귀분석보다 라쏘로 가중치가 낮은 변수를 없애므로써 결정계수를 더 높일 수 있다.(위 r2_score 결과 참고)\n",
    "</pre>"
   ]
  }
 ],
 "metadata": {
  "kernelspec": {
   "display_name": "Python 3 (ipykernel)",
   "language": "python",
   "name": "python3"
  },
  "language_info": {
   "codemirror_mode": {
    "name": "ipython",
    "version": 3
   },
   "file_extension": ".py",
   "mimetype": "text/x-python",
   "name": "python",
   "nbconvert_exporter": "python",
   "pygments_lexer": "ipython3",
   "version": "3.11.1"
  },
  "vscode": {
   "interpreter": {
    "hash": "df95319d8ce4e1d89f5365ae10992bc1f65da593082b1d264e8f529830ec2f02"
   }
  }
 },
 "nbformat": 4,
 "nbformat_minor": 2
}
